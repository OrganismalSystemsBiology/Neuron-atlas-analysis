{
 "cells": [
  {
   "cell_type": "code",
   "execution_count": 1,
   "metadata": {},
   "outputs": [],
   "source": [
    "#!/usr/bin/env python\n",
    "#-*- coding:utf-8 -*-\n",
    "\n",
    "import numpy as np\n",
    "import pandas as pd\n",
    "import scipy.ndimage\n",
    "import skimage.morphology\n",
    "import sklearn.mixture\n",
    "\n",
    "\n",
    "class HDoG_CPU(object):\n",
    "    def __init__(self, width=2048, height=2048, depth=None, sigma_xy=(4.0, 6.0), sigma_z=(1.8,2.7),\n",
    "                 radius_small=(24,3), radius_large=(100,5), min_intensity=1000, gamma=1.0):\n",
    "        self.width  = width\n",
    "        self.height = height\n",
    "        self.depth  = depth\n",
    "\n",
    "        if type(sigma_xy) in [float,int]:\n",
    "            self.sigma_xy = (sigma_xy, sigma_xy*1.5)\n",
    "        else:\n",
    "            self.sigma_xy = sigma_xy\n",
    "        if type(sigma_z) in [float,int]:\n",
    "            self.sigma_z = (sigma_z, sigma_z*1.5)\n",
    "        else:\n",
    "            self.sigma_z = sigma_z\n",
    "\n",
    "        if not radius_small:\n",
    "            self.radius_small_xy = int(self.sigma_xy[1]*4)\n",
    "            self.radius_small_z = int(self.sigma_z[1]*2)\n",
    "        else:\n",
    "            self.radius_small_xy = radius_small[0]\n",
    "            self.radius_small_z = radius_small[1]\n",
    "        self.size_small = (self.radius_small_z*2+1, self.radius_small_xy*2+1, self.radius_small_xy*2+1)#self.radius_small_z*2+1\n",
    "\n",
    "        if not radius_large:\n",
    "            self.radius_large_xy = int(self.sigma_xy[1]*30)\n",
    "            self.radius_large_xy = int(self.sigma_z[1]*10)\n",
    "        else:\n",
    "            self.radius_large_xy = radius_large[0]\n",
    "            self.radius_large_z = radius_large[1]\n",
    "        self.size_large = (self.radius_large_z*2+1, self.radius_large_xy*2+1, self.radius_large_xy*2+1)#self.radius_large_z*2+1\n",
    "\n",
    "        self.min_intensity = min_intensity\n",
    "\n",
    "        self.gamma = gamma\n",
    "        self.normalizer = (self.sigma_xy[0]**(gamma*2)) * (self.sigma_z[0]**gamma)\n",
    "\n",
    "    def load_images(self, list_images, dtype=np.uint16, height=2048, width=2060):\n",
    "        # self.height, self.width, self.depthを書き換えた\n",
    "        imgs = []\n",
    "        for path in list_images:\n",
    "            img = np.fromfile(path, dtype=dtype).reshape(height, width)\n",
    "            imgs.append(img)\n",
    "        imgs = np.array(imgs)\n",
    "        depth = imgs.shape[0]\n",
    "        return imgs\n",
    "\n",
    "    def Normalize(self, src_img):\n",
    "        print(\"Normalize start\")\n",
    "        dilation_l_img = scipy.ndimage.filters.uniform_filter(\n",
    "            scipy.ndimage.morphology.grey_dilation(src_img, size=size_large, mode=\"nearest\").astype(np.float32),\n",
    "            size=size_large, mode=\"constant\", cval=0)\n",
    "        print(\"Dilation finish\")\n",
    "        erosion_l_img = scipy.ndimage.filters.uniform_filter(\n",
    "            scipy.ndimage.morphology.grey_erosion(src_img, size=size_large, mode=\"nearest\").astype(np.float32),\n",
    "            size=size_large, mode=\"constant\", cval=0)\n",
    "        print(\"Erosion finish\")\n",
    "\n",
    "        intensity = src_img.astype(np.float32)\n",
    "        #norm_img = ((intensity >= min_intensity) * intensity - erosion_l_img) / (dilation_l_img - erosion_l_img)\n",
    "        norm_img = (intensity >= min_intensity) * intensity / (dilation_l_img - erosion_l_img)\n",
    "        print(\"Normalize finish\")\n",
    "        return norm_img\n",
    "\n",
    "    def DoGFilter(self, src_img):\n",
    "        temp1 = scipy.ndimage.filters.gaussian_filter(\n",
    "            src_img.astype(np.float32),\n",
    "            sigma=(sigma_z[0],sigma_xy[0],sigma_xy[0]), #sigma_z[0]\n",
    "            truncate=2.0, mode=\"constant\", cval=0)\n",
    "        temp2 = scipy.ndimage.filters.gaussian_filter(\n",
    "            src_img.astype(np.float32),\n",
    "            sigma=(sigma_z[1],sigma_xy[1],sigma_xy[1]), #sigma_z[1]\n",
    "            truncate=2.0, mode=\"constant\", cval=0)\n",
    "        dog_img = (temp1 - temp2) * normalizer\n",
    "        return dog_img\n",
    "\n",
    "    def HessianPDFilter(self, dog_img):\n",
    "        Hz,Hy,Hx = np.gradient(dog_img)\n",
    "        Hzz,Hyz,Hxz = np.gradient(Hz)\n",
    "        Hyz,Hyy,Hxy = np.gradient(Hy)\n",
    "        Hxz,Hxy,Hxx = np.gradient(Hx)\n",
    "        det_img = Hxx*Hyy*Hzz + 2*Hxy*Hyz*Hxz - Hxx*Hyz*Hyz - Hyy*Hxz*Hxz - Hzz*Hxy*Hxy\n",
    "        pd_img = np.bitwise_and(np.bitwise_and(Hxx < 0, Hxx*Hyy-Hxy*Hxy > 0), det_img < 0)\n",
    "        hessian_img = np.array([Hxx,Hxy,Hxz,Hyy,Hyz,Hzz])\n",
    "        return pd_img, hessian_img\n",
    "\n",
    "    def ScaleResponse(self, scale_img, pd_img):\n",
    "        response = np.sum(scale_img*pd_img) / np.sum(pd_img)\n",
    "        return response\n",
    "\n",
    "    def CCL(self, pd_img):\n",
    "        labels_img = skimage.morphology.label(pd_img)\n",
    "        return labels_img"
   ]
  },
  {
   "cell_type": "code",
   "execution_count": 2,
   "metadata": {},
   "outputs": [],
   "source": [
    "import cv2\n",
    "import numpy as np\n",
    "from matplotlib import pyplot as plt\n",
    "from scipy import ndimage\n",
    "from skimage import measure, color, io\n",
    "\n",
    "%matplotlib inline\n",
    "import matplotlib.pyplot as plt\n",
    "import numpy as np\n",
    "import joblib, json, sys, os\n",
    "from IPython.display import Image, display_png\n",
    "\n",
    "#sys.path.append(\"script/\")\n",
    "#from MergeBrain import WholeBrainCells\n",
    "import json, glob, os.path\n",
    "\n",
    "#import ants\n",
    "import tifffile"
   ]
  },
  {
   "cell_type": "code",
   "execution_count": 3,
   "metadata": {},
   "outputs": [],
   "source": [
    "# 脳と、diff後でも、threshある\n",
    "    def RegionalFeatures3(self, norm_img, labels_img):\n",
    "        on_region = np.nonzero(labels_img)\n",
    "        labels_list = labels_img[on_region]\n",
    "        num_labels = np.max(labels_list)\n",
    "\n",
    "        # max intensity\n",
    "        max_normalized = scipy.ndimage.maximum(norm_img, labels=labels_img, index=range(1, num_labels+1))\n",
    "\n",
    "        # region size\n",
    "        ns = np.ones(len(labels_list))\n",
    "        region_size = np.bincount(labels_list-1, weights=ns)\n",
    "\n",
    "        zgrid,ygrid,xgrid = np.mgrid[0:depth, 0:height, 0:width]#np.mgrid[0:self.depth, 0:self.height, 0:self.width]\n",
    "        centroid_x = np.bincount(labels_img.flatten(), weights=xgrid.flatten())[1:] / region_size#np.bincount(labels_img.flatten())[1:]\n",
    "        centroid_y = np.bincount(labels_img.flatten(), weights=ygrid.flatten())[1:] / region_size#np.bincount(labels_img.flatten())[1:]\n",
    "        centroid_z = np.bincount(labels_img.flatten(), weights=zgrid.flatten())[1:] / region_size#np.bincount(labels_img.flatten())[1:]\n",
    "\n",
    "        df = pd.DataFrame({\n",
    "            \"index\": pd.Series(np.arange(num_labels)),\n",
    "            \"intensity\": pd.Series(max_normalized),\n",
    "            \"size\": pd.Series(region_size),\n",
    "            \"centroid_x\": pd.Series(centroid_x),\n",
    "            \"centroid_y\": pd.Series(centroid_y),\n",
    "            \"centroid_z\": pd.Series(centroid_z),\n",
    "        })\n",
    "        return df\n",
    "\n",
    "    def classify_unsupervised(self, features, i_feature_maximize=2, n_components=3):\n",
    "        # input\n",
    "        # features : (num_regions, num_features)\n",
    "        # i_feature_maximize : the cluster is selected as desired one\n",
    "        #                      if it has maximum mean value of this feature\n",
    "        # n_components : number of gaussians\n",
    "        #\n",
    "        # output\n",
    "        # pred : a region is blob if pred = 1, not blob if pred = 0\n",
    "\n",
    "        vbgmm = sklearn.mixture.BayesianGaussianMixture(weight_concentration_prior_type=\"dirichlet_process\", n_components=n_components)\n",
    "        vbgmm.fit(features)\n",
    "        pred = vbgmm.predict(features)\n",
    "\n",
    "        i_pred_cluster = np.argmax(vbgmm.means_[:,i_feature_maximize])\n",
    "        return pred == i_pred_cluster"
   ]
  },
  {
   "cell_type": "code",
   "execution_count": 4,
   "metadata": {},
   "outputs": [],
   "source": [
    "#width=cells16.shape[0]\n",
    "#height=cells16.shape[1]\n",
    "depth=3\n",
    "#sigma_xy=(4.0, 6.0)\n",
    "#sigma_z=(1.8,2.7)\n",
    "sigma_z=(1, 1)\n",
    "#sigma_xy=(4.0, 6.0)\n",
    "sigma_xy=(8.0, 10.0)\n",
    "#sigma_z=(1,1)\n",
    "#sigma_z=(0.5,0.5)\n",
    "radius_small=(24,3)\n",
    "radius_large=(100,5)\n",
    "#min_intensity=63 #25\n",
    "gamma=1.0"
   ]
  },
  {
   "cell_type": "code",
   "execution_count": 5,
   "metadata": {},
   "outputs": [
    {
     "name": "stdout",
     "output_type": "stream",
     "text": [
      "(11, 201, 201)\n"
     ]
    }
   ],
   "source": [
    "        if type(sigma_xy) in [float,int]:\n",
    "            sigma_xy = (sigma_xy, sigma_xy*1.5)\n",
    "        else:\n",
    "            sigma_xy = sigma_xy\n",
    "        if type(sigma_z) in [float,int]:\n",
    "            sigma_z = (sigma_z, sigma_z*1.5)\n",
    "        else:\n",
    "            sigma_z = sigma_z\n",
    "\n",
    "        if not radius_small:\n",
    "            radius_small_xy = int(sigma_xy[1]*4)\n",
    "            radius_small_z = int(sigma_z[1]*2)\n",
    "        else:\n",
    "            radius_small_xy = radius_small[0]\n",
    "            radius_small_z = radius_small[1]\n",
    "        size_small = (radius_small_z*2+1, radius_small_xy*2+1, radius_small_xy*2+1)\n",
    "\n",
    "        if not radius_large:\n",
    "            radius_large_xy = int(sigma_xy[1]*30)\n",
    "            radius_large_xy = int(sigma_z[1]*10)\n",
    "        else:\n",
    "            radius_large_xy = radius_large[0]\n",
    "            radius_large_z = radius_large[1]\n",
    "        size_large = (radius_large_z*2+1, radius_large_xy*2+1, radius_large_xy*2+1)\n",
    "\n",
    "        #min_intensity = min_intensity\n",
    "\n",
    "        gamma = gamma\n",
    "        normalizer = (sigma_xy[0]**(gamma*2)) * (sigma_z[0]**gamma)\n",
    "\n",
    "        print(size_large)"
   ]
  },
  {
   "cell_type": "code",
   "execution_count": 6,
   "metadata": {},
   "outputs": [],
   "source": [
    "class LinearClassifier2D:\n",
    "    \"\"\"\n",
    "    Sample satisfies `a * X[:,0] + b * X[:,1] + c > 0` is regarded as positive.\n",
    "    \"\"\"\n",
    "    def __init__(self, a,b,c):\n",
    "        self.a = a\n",
    "        self.b = b\n",
    "        self.c = c\n",
    "\n",
    "    def predict(self, X):\n",
    "        return self.a * X[:,0] + self.b * X[:,1] + self.c > 0\n",
    "    \n",
    "import seaborn as sns\n",
    "def plot_classification_result(feature_x, feature_y, pred):\n",
    "    sns.scatterplot(feature_x, feature_y, hue=pred)\n",
    "    #if np.count_nonzero(pred == 0) > 1:\n",
    "    #sns.jointplot(x=\"x\", y=\"y\", data=feature_x[pred==0])\n",
    "    #sns.jointplot(x=\"x\", y=\"y\", data=df)\n",
    "    sns.kdeplot(feature_x[pred==0],feature_y[pred==0], cmap=\"Blues\", shade=True, shade_lowest=False)\n",
    "    #if np.count_nonzero(pred == 1) > 1:\n",
    "    sns.kdeplot(feature_x[pred==1],feature_y[pred==1], cmap=\"Oranges\", shade=True, shade_lowest=False)\n",
    "    return"
   ]
  },
  {
   "cell_type": "code",
   "execution_count": 7,
   "metadata": {},
   "outputs": [],
   "source": [
    "%matplotlib inline\n",
    "import matplotlib.pyplot as plt\n",
    "import numpy as np\n",
    "import joblib, json, sys, os\n",
    "from IPython.display import Image, display_png\n",
    "\n",
    "sys.path.append(\"../script/\")\n",
    "import matplotlib.pyplot as plt\n",
    "import pandas as pd\n",
    "\n",
    "import sys, os, os.path, re, csv, math\n",
    "import linecache\n",
    "import numpy as  np\n",
    "import pandas as pd\n",
    "from matplotlib import pyplot as plt\n",
    "from statistics import mean,stdev\n",
    "import seaborn as sns\n",
    "\n",
    "import csv\n",
    "import pprint\n",
    "\n",
    "from statannotations.Annotator import Annotator"
   ]
  },
  {
   "cell_type": "code",
   "execution_count": 8,
   "metadata": {},
   "outputs": [],
   "source": [
    "# Gaussianとmeanを引いたらよいsegmentationができそう。Threshを決める必要はあるが。\n",
    "# labelを振って、labelごとに重心座標・体積を出すか。"
   ]
  },
  {
   "cell_type": "code",
   "execution_count": 8,
   "metadata": {},
   "outputs": [],
   "source": [
    "PathPool=[\"Abeta/#4_APPmodel_Abeta_APP9m_1/\"] \n",
    "#dir1 = \"/export2/Imaging/Axial/\"+PathPool[0]\n",
    "dir1 = \"/export3/Imaging/ds4_Data4/\"+PathPool[0]\n",
    "src_dir_SYTOXG = \"BOBO-1.tif\"\n",
    "src_dir_Iba1 = \"Iba1.tif\"\n",
    "src_dir_Tau = \"Abeta.tif\""
   ]
  },
  {
   "cell_type": "code",
   "execution_count": 14,
   "metadata": {},
   "outputs": [
    {
     "name": "stdout",
     "output_type": "stream",
     "text": [
      "OK\n",
      "OK\n",
      "OK\n"
     ]
    }
   ],
   "source": [
    "# 上下さかさまなので、flipする。\n",
    "\n",
    "src_dir_SYTOXG = \"BOBO-1.tif\"\n",
    "src_dir_Iba1 = \"Iba1.tif\"\n",
    "src_dir_Tau = \"Abeta.tif\"\n",
    "\n",
    "Dir =  \"/export3/Imaging/ds4_Data4/\"+PathPool[0]+\"/\" + src_dir_SYTOXG # SYTOXG\n",
    "image_nuc = tifffile.imread(Dir)\n",
    "print(\"OK\")\n",
    "\n",
    "Dir =  \"/export3/Imaging/ds4_Data4/\"+PathPool[0]+\"/\" + src_dir_Iba1 # AT8\n",
    "image_Iba1 = tifffile.imread(Dir)\n",
    "print(\"OK\")\n",
    "\n",
    "Dir =  \"/export3/Imaging/ds4_Data4/\"+PathPool[0]+\"/\" + src_dir_Tau # AT8\n",
    "image_tau = tifffile.imread(Dir)\n",
    "print(\"OK\")"
   ]
  },
  {
   "cell_type": "code",
   "execution_count": 15,
   "metadata": {},
   "outputs": [
    {
     "data": {
      "text/plain": [
       "(1368, 2304, 2160)"
      ]
     },
     "execution_count": 15,
     "metadata": {},
     "output_type": "execute_result"
    }
   ],
   "source": [
    "# z , y,  x\n",
    "image_nuc.shape"
   ]
  },
  {
   "cell_type": "code",
   "execution_count": 16,
   "metadata": {},
   "outputs": [
    {
     "name": "stdout",
     "output_type": "stream",
     "text": [
      "OK\n",
      "OK\n",
      "OK\n"
     ]
    }
   ],
   "source": [
    "#resize_img = ndimage.zoom(image_nuc, (10/50, 10/50, 10/50), order = 0, mode='nearest')\n",
    "flip_img = np.flip(image_nuc, axis=1)\n",
    "\n",
    "dir1 =  \"/export3/Imaging/ds4_Data4/\"+PathPool[0]\n",
    "\n",
    "tifffile.imsave(\n",
    "    dir1+\"BOBO-1_flipped.tif\",\n",
    "    flip_img.astype(np.uint16)\n",
    ")\n",
    "print(\"OK\")\n",
    "\n",
    "flip_img = np.flip(image_Iba1, axis=1)\n",
    "\n",
    "dir1 =  \"/export3/Imaging/ds4_Data4/\"+PathPool[0]\n",
    "\n",
    "tifffile.imsave(\n",
    "    dir1+\"Iba1_flipped.tif\",\n",
    "    flip_img.astype(np.uint16)\n",
    ")\n",
    "print(\"OK\")\n",
    "\n",
    "flip_img = np.flip(image_tau, axis=1)\n",
    "\n",
    "dir1 =  \"/export3/Imaging/ds4_Data4/\"+PathPool[0]\n",
    "\n",
    "tifffile.imsave(\n",
    "    dir1+\"Abeta_flipped.tif\",\n",
    "    flip_img.astype(np.uint16)\n",
    ")\n",
    "print(\"OK\")\n"
   ]
  },
  {
   "cell_type": "code",
   "execution_count": 17,
   "metadata": {},
   "outputs": [
    {
     "name": "stdout",
     "output_type": "stream",
     "text": [
      "OK\n",
      "OK\n",
      "OK\n"
     ]
    }
   ],
   "source": [
    "# 上下さかさまをread \n",
    "src_dir_SYTOXG = \"BOBO-1_flipped.tif\"\n",
    "src_dir_Iba1 = \"Iba1_flipped.tif\"\n",
    "src_dir_Tau = \"Abeta_flipped.tif\"\n",
    "\n",
    "Dir =  \"/export3/Imaging/ds4_Data4/\"+PathPool[0]+\"/\" + src_dir_SYTOXG # SYTOXG\n",
    "image_nuc = tifffile.imread(Dir)\n",
    "print(\"OK\")\n",
    "\n",
    "Dir =  \"/export3/Imaging/ds4_Data4/\"+PathPool[0]+\"/\" + src_dir_Iba1 # AT8\n",
    "image_Iba1 = tifffile.imread(Dir)\n",
    "print(\"OK\")\n",
    "\n",
    "Dir =  \"/export3/Imaging/ds4_Data4/\"+PathPool[0]+\"/\" + src_dir_Tau # AT8\n",
    "image_tau = tifffile.imread(Dir)\n",
    "print(\"OK\")"
   ]
  },
  {
   "cell_type": "code",
   "execution_count": 18,
   "metadata": {},
   "outputs": [
    {
     "name": "stdout",
     "output_type": "stream",
     "text": [
      "OK\n",
      "OK\n",
      "OK\n"
     ]
    }
   ],
   "source": [
    "# 初回だけ 6.5x6.5x8.3um resolutionを 8.3x8.3x8.3に落とす。\n",
    "# 解像度を落とす場合は、おそらくorder = 0でＯＫ\n",
    "\n",
    "resize_img = ndimage.zoom(image_nuc, (10/50, 10/50, 10/50), order = 0, mode='nearest')\n",
    "\n",
    "dir1 =  \"/export3/Imaging/ds4_Data4/\"+PathPool[0]\n",
    "\n",
    "tifffile.imsave(\n",
    "    dir1+\"BOBO-1_50um_resized.tif\",\n",
    "    resize_img.astype(np.uint16)\n",
    ")\n",
    "print(\"OK\")\n",
    "\n",
    "resize_img = ndimage.zoom(image_Iba1, (10/50, 10/50, 10/50), order = 0, mode='nearest')\n",
    "\n",
    "dir1 =  \"/export3/Imaging/ds4_Data4/\"+PathPool[0]\n",
    "\n",
    "tifffile.imsave(\n",
    "    dir1+\"Iba1_50um_resized.tif\",\n",
    "    resize_img.astype(np.uint16)\n",
    ")\n",
    "print(\"OK\")\n",
    "\n",
    "resize_img = ndimage.zoom(image_tau, (10/50, 10/50, 10/50), order = 0, mode='nearest')\n",
    "\n",
    "dir1 =  \"/export3/Imaging/ds4_Data4/\"+PathPool[0]\n",
    "\n",
    "tifffile.imsave(\n",
    "    dir1+\"Abeta_50um_resized.tif\",\n",
    "    resize_img.astype(np.uint16)\n",
    ")\n",
    "print(\"OK\")"
   ]
  },
  {
   "cell_type": "code",
   "execution_count": 19,
   "metadata": {},
   "outputs": [
    {
     "data": {
      "text/plain": [
       "(274, 461, 432)"
      ]
     },
     "execution_count": 19,
     "metadata": {},
     "output_type": "execute_result"
    }
   ],
   "source": [
    "resize_img.shape"
   ]
  },
  {
   "cell_type": "code",
   "execution_count": null,
   "metadata": {},
   "outputs": [],
   "source": []
  },
  {
   "cell_type": "code",
   "execution_count": 21,
   "metadata": {},
   "outputs": [
    {
     "name": "stdout",
     "output_type": "stream",
     "text": [
      "OK\n"
     ]
    }
   ],
   "source": [
    "# 上下さかさまをread \n",
    "src_dir_SYTOXG = \"BOBO-1_flipped.tif\"\n",
    "src_dir_Iba1 = \"Iba1_flipped.tif\"\n",
    "src_dir_Tau = \"Abeta_flipped.tif\"\n",
    "\n",
    "Dir = \"/export3/Imaging/ds4_Data4/\"+PathPool[0]+\"/\" + src_dir_Tau # AT8\n",
    "image_tau = tifffile.imread(Dir)\n",
    "print(\"OK\")"
   ]
  },
  {
   "cell_type": "code",
   "execution_count": 22,
   "metadata": {},
   "outputs": [],
   "source": [
    "from scipy.ndimage import gaussian_filter\n",
    "from scipy.ndimage import uniform_filter"
   ]
  },
  {
   "cell_type": "code",
   "execution_count": 23,
   "metadata": {},
   "outputs": [
    {
     "name": "stdout",
     "output_type": "stream",
     "text": [
      "OK\n"
     ]
    }
   ],
   "source": [
    "fsize = 5 #pix四方でmean, gaussianは2*3*sigmaが四方のfilterになる。meanは、2倍の大きさにしておくことでよりならす。\n",
    "image_tau_gaussed = gaussian_filter(image_tau, sigma=fsize/6)\n",
    "print(\"OK\")"
   ]
  },
  {
   "cell_type": "code",
   "execution_count": 24,
   "metadata": {},
   "outputs": [
    {
     "name": "stdout",
     "output_type": "stream",
     "text": [
      "OK\n"
     ]
    }
   ],
   "source": [
    "image_tau_mean = uniform_filter(image_tau, size=fsize*2)\n",
    "print(\"OK\")"
   ]
  },
  {
   "cell_type": "code",
   "execution_count": 25,
   "metadata": {},
   "outputs": [
    {
     "name": "stdout",
     "output_type": "stream",
     "text": [
      "OK\n"
     ]
    }
   ],
   "source": [
    "dir1 =  \"/export3/Imaging/ds4_Data4/\"+PathPool[0]\n",
    "\n",
    "tifffile.imsave(\n",
    "    dir1+\"image_tau_gaussed.tif\",\n",
    "    image_tau_gaussed.astype(np.uint16)\n",
    ")\n",
    "print(\"OK\")"
   ]
  },
  {
   "cell_type": "code",
   "execution_count": 26,
   "metadata": {},
   "outputs": [
    {
     "name": "stdout",
     "output_type": "stream",
     "text": [
      "OK\n"
     ]
    }
   ],
   "source": [
    "dir1 =  \"/export3/Imaging/ds4_Data4/\"+PathPool[0]\n",
    "\n",
    "tifffile.imsave(\n",
    "    dir1+\"image_tau_gaussed1.tif\",\n",
    "    image_tau_gaussed[500].astype(np.uint16)\n",
    ")\n",
    "print(\"OK\")"
   ]
  },
  {
   "cell_type": "code",
   "execution_count": 27,
   "metadata": {},
   "outputs": [
    {
     "name": "stdout",
     "output_type": "stream",
     "text": [
      "OK\n"
     ]
    }
   ],
   "source": [
    "tifffile.imsave(\n",
    "    dir1+\"image_tau_mean.tif\",\n",
    "    image_tau_mean.astype(np.uint16)\n",
    ")\n",
    "\n",
    "print(\"OK\")\n"
   ]
  },
  {
   "cell_type": "code",
   "execution_count": 28,
   "metadata": {},
   "outputs": [
    {
     "name": "stdout",
     "output_type": "stream",
     "text": [
      "OK\n"
     ]
    }
   ],
   "source": [
    "# 脳の表面は、必ず値が高くなるので、マスクを作製して対処する\n",
    "# 脳ラベル作製\n",
    "# 全体のmeanの1.5倍でthreshを引く\n",
    "mask_thresh = np.average(image_tau) * 1.5\n",
    "image_tau_brain_mask =  image_tau>mask_thresh\n",
    "print(\"OK\")"
   ]
  },
  {
   "cell_type": "code",
   "execution_count": 29,
   "metadata": {},
   "outputs": [
    {
     "data": {
      "text/plain": [
       "724.6768644541509"
      ]
     },
     "execution_count": 29,
     "metadata": {},
     "output_type": "execute_result"
    }
   ],
   "source": [
    "mask_thresh"
   ]
  },
  {
   "cell_type": "code",
   "execution_count": 30,
   "metadata": {},
   "outputs": [],
   "source": [
    "from skimage.filters import threshold_minimum,threshold_mean,threshold_sauvola\n",
    "#threshold_minimum(image_tau)"
   ]
  },
  {
   "cell_type": "code",
   "execution_count": 31,
   "metadata": {},
   "outputs": [
    {
     "name": "stdout",
     "output_type": "stream",
     "text": [
      "OK\n"
     ]
    }
   ],
   "source": [
    "image_tau_bg_mask = image_tau<=mask_thresh\n",
    "print(\"OK\")"
   ]
  },
  {
   "cell_type": "code",
   "execution_count": 32,
   "metadata": {},
   "outputs": [
    {
     "name": "stdout",
     "output_type": "stream",
     "text": [
      "OK\n",
      "OK\n"
     ]
    }
   ],
   "source": [
    "tifffile.imsave(\n",
    "    dir1+\"image_tau_brain_mask.tif\",\n",
    "    image_tau_brain_mask.astype(np.uint16)\n",
    ")\n",
    "print(\"OK\")\n",
    "\n",
    "tifffile.imsave(\n",
    "    dir1+\"image_tau_bg_mask.tif\",\n",
    "    image_tau_bg_mask.astype(np.uint16)\n",
    ")\n",
    "\n",
    "print(\"OK\")"
   ]
  },
  {
   "cell_type": "code",
   "execution_count": 33,
   "metadata": {},
   "outputs": [],
   "source": [
    "from scipy import ndimage"
   ]
  },
  {
   "cell_type": "code",
   "execution_count": 34,
   "metadata": {},
   "outputs": [],
   "source": [
    "\n",
    "Dir = \"/export3/Imaging/ds4_Data4/\"+PathPool[0]+\"/image_tau_brain_mask.tif\"\n",
    "image_tau_brain_mask = tifffile.imread(Dir)"
   ]
  },
  {
   "cell_type": "code",
   "execution_count": 35,
   "metadata": {},
   "outputs": [
    {
     "name": "stdout",
     "output_type": "stream",
     "text": [
      "OK\n"
     ]
    }
   ],
   "source": [
    "# erosion\n",
    "image_tau_brain_mask_erosed = ndimage.binary_erosion(image_tau_brain_mask, iterations=10).astype(image_tau_brain_mask.dtype)\n",
    "print(\"OK\")"
   ]
  },
  {
   "cell_type": "code",
   "execution_count": 36,
   "metadata": {},
   "outputs": [
    {
     "name": "stdout",
     "output_type": "stream",
     "text": [
      "OK\n"
     ]
    }
   ],
   "source": [
    "dir1 =  \"/export3/Imaging/ds4_Data4/\"+PathPool[0]\n",
    "tifffile.imsave(\n",
    "    dir1+\"image_tau_brain_mask_erosed.tif\",\n",
    "    image_tau_brain_mask_erosed.astype(np.uint16)\n",
    ")\n",
    "\n",
    "print(\"OK\")"
   ]
  },
  {
   "cell_type": "code",
   "execution_count": 37,
   "metadata": {},
   "outputs": [
    {
     "name": "stdout",
     "output_type": "stream",
     "text": [
      "OK\n"
     ]
    }
   ],
   "source": [
    "dir1 =  \"/export3/Imaging/ds4_Data4/\"+PathPool[0]\n",
    "tifffile.imsave(\n",
    "    dir1+\"image_tau_brain_mask_erosed1.tif\",\n",
    "    image_tau_brain_mask_erosed[500].astype(np.uint16)\n",
    ")\n",
    "\n",
    "print(\"OK\")"
   ]
  },
  {
   "cell_type": "code",
   "execution_count": 38,
   "metadata": {},
   "outputs": [
    {
     "name": "stdout",
     "output_type": "stream",
     "text": [
      "OK\n"
     ]
    }
   ],
   "source": [
    "tifffile.imsave(\n",
    "    dir1+\"image_tau_brain_mask1.tif\",\n",
    "    image_tau_brain_mask[500].astype(np.uint16)\n",
    ")\n",
    "print(\"OK\")"
   ]
  },
  {
   "cell_type": "code",
   "execution_count": 39,
   "metadata": {},
   "outputs": [],
   "source": [
    "Dir =  \"/export3/Imaging/ds4_Data4/\"+PathPool[0]+\"/image_tau_gaussed.tif\"\n",
    "image_tau_gaussed = tifffile.imread(Dir)\n",
    "Dir =  \"/export3/Imaging/ds4_Data4/\"+PathPool[0]+\"/image_tau_mean.tif\"\n",
    "image_tau_mean = tifffile.imread(Dir)"
   ]
  },
  {
   "cell_type": "code",
   "execution_count": 40,
   "metadata": {},
   "outputs": [
    {
     "name": "stdout",
     "output_type": "stream",
     "text": [
      "OK\n"
     ]
    }
   ],
   "source": [
    "# gauss- meanで、正のものだけにする\n",
    "image_tau_diff = np.subtract(image_tau_gaussed.astype(np.float32),image_tau_mean.astype(np.float32))\n",
    "image_tau_diff = np.where(image_tau_diff>0,  image_tau_diff, 0)\n",
    "print(\"OK\")"
   ]
  },
  {
   "cell_type": "code",
   "execution_count": 41,
   "metadata": {},
   "outputs": [
    {
     "name": "stdout",
     "output_type": "stream",
     "text": [
      "OK\n"
     ]
    }
   ],
   "source": [
    "tifffile.imsave(\n",
    "    dir1+\"image_tau_diff.tif\",\n",
    "    image_tau_diff.astype(np.uint16)\n",
    ")\n",
    "\n",
    "print(\"OK\")"
   ]
  },
  {
   "cell_type": "code",
   "execution_count": 42,
   "metadata": {},
   "outputs": [
    {
     "name": "stdout",
     "output_type": "stream",
     "text": [
      "OK\n"
     ]
    }
   ],
   "source": [
    "Dir =  \"/export3/Imaging/ds4_Data4/\"+PathPool[0]+\"/image_tau_diff.tif\"\n",
    "image_tau_diff = tifffile.imread(Dir)\n",
    "\n",
    "tifffile.imsave(\n",
    "    dir1+\"image_tau_diff_erosed.tif\",\n",
    "    image_tau_diff*image_tau_brain_mask_erosed.astype(np.uint16)\n",
    ")\n",
    "print(\"OK\")"
   ]
  },
  {
   "cell_type": "code",
   "execution_count": 43,
   "metadata": {},
   "outputs": [
    {
     "name": "stdout",
     "output_type": "stream",
     "text": [
      "OK\n"
     ]
    }
   ],
   "source": [
    "tifffile.imsave(\n",
    "    dir1+\"image_tau_diff_erosed1.tif\",\n",
    "    (image_tau_diff*image_tau_brain_mask_erosed)[500].astype(np.uint16)\n",
    ")\n",
    "print(\"OK\")"
   ]
  },
  {
   "cell_type": "code",
   "execution_count": 44,
   "metadata": {},
   "outputs": [
    {
     "name": "stdout",
     "output_type": "stream",
     "text": [
      "OK\n"
     ]
    }
   ],
   "source": [
    "tifffile.imsave(\n",
    "    dir1+\"image_tau_diff1.tif\",\n",
    "    (image_tau_diff)[500].astype(np.uint16)\n",
    ")\n",
    "print(\"OK\")"
   ]
  },
  {
   "cell_type": "code",
   "execution_count": null,
   "metadata": {},
   "outputs": [],
   "source": []
  },
  {
   "cell_type": "code",
   "execution_count": 45,
   "metadata": {},
   "outputs": [],
   "source": [
    "Dir =  \"/export3/Imaging/ds4_Data4/\"+PathPool[0]+\"/image_tau_brain_mask.tif\"\n",
    "image_tau_brain_mask = tifffile.imread(Dir)"
   ]
  },
  {
   "cell_type": "code",
   "execution_count": 46,
   "metadata": {},
   "outputs": [],
   "source": [
    "Dir =  \"/export3/Imaging/ds4_Data4/\"+PathPool[0]+\"/image_tau_diff_erosed.tif\"\n",
    "image_tau_diff_erosed = tifffile.imread(Dir)"
   ]
  },
  {
   "cell_type": "code",
   "execution_count": 47,
   "metadata": {},
   "outputs": [
    {
     "name": "stdout",
     "output_type": "stream",
     "text": [
      "OK\n"
     ]
    }
   ],
   "source": [
    "tifffile.imsave(\n",
    "    dir1+\"image_tau_diff_erosed2.tif\",\n",
    "    (image_tau_diff_erosed)[500].astype(np.uint16)\n",
    ")\n",
    "print(\"OK\")"
   ]
  },
  {
   "cell_type": "code",
   "execution_count": 48,
   "metadata": {},
   "outputs": [],
   "source": [
    "Dir =  \"/export3/Imaging/ds4_Data4/\"+PathPool[0]+\"/image_tau_bg_mask.tif\"\n",
    "image_tau_bg_mask = tifffile.imread(Dir)"
   ]
  },
  {
   "cell_type": "code",
   "execution_count": 49,
   "metadata": {},
   "outputs": [
    {
     "name": "stdout",
     "output_type": "stream",
     "text": [
      "OK\n"
     ]
    }
   ],
   "source": [
    "tifffile.imsave(\n",
    "    dir1+\"image_tau_bg_mask2.tif\",\n",
    "    (image_tau_bg_mask)[500].astype(np.uint16)\n",
    ")\n",
    "print(\"OK\")"
   ]
  },
  {
   "cell_type": "code",
   "execution_count": 50,
   "metadata": {},
   "outputs": [],
   "source": [
    "Dir =  \"/export3/Imaging/ds4_Data4/\"+PathPool[0]+src_dir_Tau # AT8\n",
    "image_tau = tifffile.imread(Dir)"
   ]
  },
  {
   "cell_type": "code",
   "execution_count": 51,
   "metadata": {},
   "outputs": [
    {
     "name": "stdout",
     "output_type": "stream",
     "text": [
      "1423.3861471384487\n"
     ]
    }
   ],
   "source": [
    "# threshold\n",
    "# bgのノイズの2倍程度で。\n",
    "# 自動threshも考えたが、微妙。。\n",
    "# histを自分で出して、きったほうがいいかも？\n",
    "\n",
    "#thresh = np.average(image_tau, weights=image_tau_bg_mask) \n",
    "thresh = np.average(image_tau, weights=image_tau_brain_mask)\n",
    "thresh = thresh * 1.0\n",
    "print (thresh)"
   ]
  },
  {
   "cell_type": "code",
   "execution_count": 52,
   "metadata": {},
   "outputs": [
    {
     "name": "stdout",
     "output_type": "stream",
     "text": [
      "OK\n"
     ]
    }
   ],
   "source": [
    "image_tau_thresh = image_tau_diff_erosed>thresh\n",
    "#image_tau_thresh = np.where(image_tau_diff>thresh, 1, 0)\n",
    "print(\"OK\")"
   ]
  },
  {
   "cell_type": "code",
   "execution_count": 53,
   "metadata": {},
   "outputs": [
    {
     "name": "stdout",
     "output_type": "stream",
     "text": [
      "OK\n"
     ]
    }
   ],
   "source": [
    "tifffile.imsave(\n",
    "    dir1+\"image_tau_thresh.tif\",\n",
    "    image_tau_thresh.astype(np.uint16)\n",
    ")\n",
    "\n",
    "print(\"OK\")"
   ]
  },
  {
   "cell_type": "code",
   "execution_count": 54,
   "metadata": {},
   "outputs": [
    {
     "name": "stdout",
     "output_type": "stream",
     "text": [
      "OK\n"
     ]
    }
   ],
   "source": [
    "tifffile.imsave(\n",
    "    dir1+\"image_tau_thresh1.tif\",\n",
    "    image_tau_thresh[500].astype(np.uint16)\n",
    ")\n",
    "\n",
    "print(\"OK\")"
   ]
  },
  {
   "cell_type": "code",
   "execution_count": 9,
   "metadata": {},
   "outputs": [],
   "source": [
    "Dir =  \"/export3/Imaging/ds4_Data4/\"+PathPool[0]+\"/image_tau_thresh.tif\"\n",
    "image_tau_thresh = tifffile.imread(Dir)"
   ]
  },
  {
   "cell_type": "code",
   "execution_count": 10,
   "metadata": {},
   "outputs": [],
   "source": [
    "# labelする\n",
    "image_tau_CCLed=[]\n",
    "image_tau_CCLed=HDoG_CPU.CCL(image_tau_CCLed, image_tau_thresh)"
   ]
  },
  {
   "cell_type": "code",
   "execution_count": 11,
   "metadata": {},
   "outputs": [
    {
     "name": "stdout",
     "output_type": "stream",
     "text": [
      "OK\n"
     ]
    }
   ],
   "source": [
    "tifffile.imsave(\n",
    "    dir1+\"image_tau_CCLed1.tif\",\n",
    "    image_tau_CCLed[500].astype(np.float32)\n",
    ")\n",
    "\n",
    "print(\"OK\")"
   ]
  },
  {
   "cell_type": "code",
   "execution_count": 12,
   "metadata": {},
   "outputs": [
    {
     "name": "stdout",
     "output_type": "stream",
     "text": [
      "OK\n"
     ]
    }
   ],
   "source": [
    "tifffile.imsave(\n",
    "    dir1+\"image_tau_CCLed.tif\",\n",
    "    image_tau_CCLed.astype(np.float32)\n",
    ")\n",
    "\n",
    "print(\"OK\")"
   ]
  },
  {
   "cell_type": "code",
   "execution_count": null,
   "metadata": {},
   "outputs": [],
   "source": []
  },
  {
   "cell_type": "code",
   "execution_count": null,
   "metadata": {},
   "outputs": [],
   "source": [
    "# labelごとに、重心・体積の集計を行う"
   ]
  },
  {
   "cell_type": "code",
   "execution_count": 13,
   "metadata": {},
   "outputs": [],
   "source": [
    "Dir =  \"/export3/Imaging/ds4_Data4/\"+PathPool[0]+\"/image_tau_CCLed.tif\"\n",
    "image_tau_CCLed = tifffile.imread(Dir)\n",
    "\n",
    "Dir =  \"/export3/Imaging/ds4_Data4/\"+PathPool[0]+\"/image_tau_diff.tif\"\n",
    "image_tau_diff = tifffile.imread(Dir)"
   ]
  },
  {
   "cell_type": "code",
   "execution_count": 14,
   "metadata": {},
   "outputs": [
    {
     "name": "stdout",
     "output_type": "stream",
     "text": [
      "182593\n"
     ]
    }
   ],
   "source": [
    "norm_img = image_tau_diff\n",
    "labels_img = image_tau_CCLed.astype(np.int32) #labels_img = image_tau_CCLed.astype(np.int64)\n",
    "on_region = np.nonzero(labels_img)\n",
    "labels_list = labels_img[on_region]\n",
    "num_labels = int(np.max(labels_list))\n",
    "print(num_labels)"
   ]
  },
  {
   "cell_type": "code",
   "execution_count": 15,
   "metadata": {},
   "outputs": [],
   "source": [
    "# max intensity\n",
    "max_normalized = []\n",
    "max_normalized = scipy.ndimage.maximum(norm_img, labels=labels_img, index=range(1, num_labels+1))\n",
    "\n",
    "# region size\n",
    "ns = np.ones(len(labels_list))"
   ]
  },
  {
   "cell_type": "code",
   "execution_count": 16,
   "metadata": {},
   "outputs": [],
   "source": [
    "region_size = np.bincount(labels_list.astype(np.int32)-1, weights=ns)\n",
    "#region_size = np.bincount(labels_list.astype(np.int64)-1, weights=ns)\n",
    "#depth=image_tau_CCLed.shape[0]\n",
    "#width=image_tau_CCLed.shape[1]\n",
    "#height=image_tau_CCLed.shape[2]"
   ]
  },
  {
   "cell_type": "code",
   "execution_count": 17,
   "metadata": {},
   "outputs": [],
   "source": [
    "df = pd.DataFrame({\n",
    "    \"index\": pd.Series(np.arange(num_labels)),\n",
    "    \"intensity\": pd.Series(max_normalized),\n",
    "    \"size\": pd.Series(region_size)\n",
    "})"
   ]
  },
  {
   "cell_type": "code",
   "execution_count": 18,
   "metadata": {},
   "outputs": [
    {
     "data": {
      "text/html": [
       "<div>\n",
       "<style scoped>\n",
       "    .dataframe tbody tr th:only-of-type {\n",
       "        vertical-align: middle;\n",
       "    }\n",
       "\n",
       "    .dataframe tbody tr th {\n",
       "        vertical-align: top;\n",
       "    }\n",
       "\n",
       "    .dataframe thead th {\n",
       "        text-align: right;\n",
       "    }\n",
       "</style>\n",
       "<table border=\"1\" class=\"dataframe\">\n",
       "  <thead>\n",
       "    <tr style=\"text-align: right;\">\n",
       "      <th></th>\n",
       "      <th>index</th>\n",
       "      <th>intensity</th>\n",
       "      <th>size</th>\n",
       "    </tr>\n",
       "  </thead>\n",
       "  <tbody>\n",
       "    <tr>\n",
       "      <th>0</th>\n",
       "      <td>0</td>\n",
       "      <td>4927</td>\n",
       "      <td>11.0</td>\n",
       "    </tr>\n",
       "    <tr>\n",
       "      <th>1</th>\n",
       "      <td>1</td>\n",
       "      <td>4108</td>\n",
       "      <td>118.0</td>\n",
       "    </tr>\n",
       "    <tr>\n",
       "      <th>2</th>\n",
       "      <td>2</td>\n",
       "      <td>5072</td>\n",
       "      <td>157.0</td>\n",
       "    </tr>\n",
       "    <tr>\n",
       "      <th>3</th>\n",
       "      <td>3</td>\n",
       "      <td>4629</td>\n",
       "      <td>110.0</td>\n",
       "    </tr>\n",
       "    <tr>\n",
       "      <th>4</th>\n",
       "      <td>4</td>\n",
       "      <td>2910</td>\n",
       "      <td>35.0</td>\n",
       "    </tr>\n",
       "    <tr>\n",
       "      <th>...</th>\n",
       "      <td>...</td>\n",
       "      <td>...</td>\n",
       "      <td>...</td>\n",
       "    </tr>\n",
       "    <tr>\n",
       "      <th>182588</th>\n",
       "      <td>182588</td>\n",
       "      <td>21569</td>\n",
       "      <td>199.0</td>\n",
       "    </tr>\n",
       "    <tr>\n",
       "      <th>182589</th>\n",
       "      <td>182589</td>\n",
       "      <td>1853</td>\n",
       "      <td>16.0</td>\n",
       "    </tr>\n",
       "    <tr>\n",
       "      <th>182590</th>\n",
       "      <td>182590</td>\n",
       "      <td>1638</td>\n",
       "      <td>11.0</td>\n",
       "    </tr>\n",
       "    <tr>\n",
       "      <th>182591</th>\n",
       "      <td>182591</td>\n",
       "      <td>1499</td>\n",
       "      <td>2.0</td>\n",
       "    </tr>\n",
       "    <tr>\n",
       "      <th>182592</th>\n",
       "      <td>182592</td>\n",
       "      <td>1447</td>\n",
       "      <td>2.0</td>\n",
       "    </tr>\n",
       "  </tbody>\n",
       "</table>\n",
       "<p>182593 rows × 3 columns</p>\n",
       "</div>"
      ],
      "text/plain": [
       "         index  intensity   size\n",
       "0            0       4927   11.0\n",
       "1            1       4108  118.0\n",
       "2            2       5072  157.0\n",
       "3            3       4629  110.0\n",
       "4            4       2910   35.0\n",
       "...        ...        ...    ...\n",
       "182588  182588      21569  199.0\n",
       "182589  182589       1853   16.0\n",
       "182590  182590       1638   11.0\n",
       "182591  182591       1499    2.0\n",
       "182592  182592       1447    2.0\n",
       "\n",
       "[182593 rows x 3 columns]"
      ]
     },
     "execution_count": 18,
     "metadata": {},
     "output_type": "execute_result"
    }
   ],
   "source": [
    "df"
   ]
  },
  {
   "cell_type": "code",
   "execution_count": 19,
   "metadata": {},
   "outputs": [],
   "source": [
    "dir1 =  \"/export3/Imaging/ds4_Data4/\"+PathPool[0]\n",
    "\n",
    "csv_tau = dir1 + \"csv_tau1.csv\"\n",
    "\n",
    "df= df.astype('int')\n",
    "df.to_csv(csv_tau, index=False, header=True, chunksize=50000,\n",
    "            columns=[\"index\",\"intensity\",\"size\"])"
   ]
  },
  {
   "cell_type": "code",
   "execution_count": 20,
   "metadata": {},
   "outputs": [],
   "source": [
    "from scipy.ndimage.measurements import center_of_mass\n",
    "\n",
    "centroids = center_of_mass(image_tau_diff, labels=labels_img, index=range(1, num_labels+1))\n",
    "centroid_z, centroid_y, centroid_x = zip(*centroids)"
   ]
  },
  {
   "cell_type": "code",
   "execution_count": 21,
   "metadata": {},
   "outputs": [],
   "source": [
    "Dir = \"/export3/Imaging/ds4_Data4/\"+PathPool[0]+\"/image_tau_CCLed.tif\"\n",
    "labels_img = tifffile.imread(Dir).astype(np.int32) #labels_img = tifffile.imread(Dir).astype(np.int64)"
   ]
  },
  {
   "cell_type": "code",
   "execution_count": 22,
   "metadata": {},
   "outputs": [
    {
     "data": {
      "text/plain": [
       "(1368, 2304, 2160)"
      ]
     },
     "execution_count": 22,
     "metadata": {},
     "output_type": "execute_result"
    }
   ],
   "source": [
    "labels_img.shape"
   ]
  },
  {
   "cell_type": "code",
   "execution_count": 23,
   "metadata": {},
   "outputs": [],
   "source": [
    "dir1 =  \"/export3/Imaging/ds4_Data4/\"+PathPool[0]\n",
    "data_1 = pd.read_csv(filepath_or_buffer=dir1 + \"csv_tau1.csv\", encoding=\"ms932\", sep=\",\")"
   ]
  },
  {
   "cell_type": "code",
   "execution_count": 24,
   "metadata": {},
   "outputs": [
    {
     "data": {
      "text/html": [
       "<div>\n",
       "<style scoped>\n",
       "    .dataframe tbody tr th:only-of-type {\n",
       "        vertical-align: middle;\n",
       "    }\n",
       "\n",
       "    .dataframe tbody tr th {\n",
       "        vertical-align: top;\n",
       "    }\n",
       "\n",
       "    .dataframe thead th {\n",
       "        text-align: right;\n",
       "    }\n",
       "</style>\n",
       "<table border=\"1\" class=\"dataframe\">\n",
       "  <thead>\n",
       "    <tr style=\"text-align: right;\">\n",
       "      <th></th>\n",
       "      <th>index</th>\n",
       "      <th>intensity</th>\n",
       "      <th>size</th>\n",
       "    </tr>\n",
       "  </thead>\n",
       "  <tbody>\n",
       "    <tr>\n",
       "      <th>0</th>\n",
       "      <td>0</td>\n",
       "      <td>4927</td>\n",
       "      <td>11</td>\n",
       "    </tr>\n",
       "    <tr>\n",
       "      <th>1</th>\n",
       "      <td>1</td>\n",
       "      <td>4108</td>\n",
       "      <td>118</td>\n",
       "    </tr>\n",
       "    <tr>\n",
       "      <th>2</th>\n",
       "      <td>2</td>\n",
       "      <td>5072</td>\n",
       "      <td>157</td>\n",
       "    </tr>\n",
       "    <tr>\n",
       "      <th>3</th>\n",
       "      <td>3</td>\n",
       "      <td>4629</td>\n",
       "      <td>110</td>\n",
       "    </tr>\n",
       "    <tr>\n",
       "      <th>4</th>\n",
       "      <td>4</td>\n",
       "      <td>2910</td>\n",
       "      <td>35</td>\n",
       "    </tr>\n",
       "    <tr>\n",
       "      <th>...</th>\n",
       "      <td>...</td>\n",
       "      <td>...</td>\n",
       "      <td>...</td>\n",
       "    </tr>\n",
       "    <tr>\n",
       "      <th>182588</th>\n",
       "      <td>182588</td>\n",
       "      <td>21569</td>\n",
       "      <td>199</td>\n",
       "    </tr>\n",
       "    <tr>\n",
       "      <th>182589</th>\n",
       "      <td>182589</td>\n",
       "      <td>1853</td>\n",
       "      <td>16</td>\n",
       "    </tr>\n",
       "    <tr>\n",
       "      <th>182590</th>\n",
       "      <td>182590</td>\n",
       "      <td>1638</td>\n",
       "      <td>11</td>\n",
       "    </tr>\n",
       "    <tr>\n",
       "      <th>182591</th>\n",
       "      <td>182591</td>\n",
       "      <td>1499</td>\n",
       "      <td>2</td>\n",
       "    </tr>\n",
       "    <tr>\n",
       "      <th>182592</th>\n",
       "      <td>182592</td>\n",
       "      <td>1447</td>\n",
       "      <td>2</td>\n",
       "    </tr>\n",
       "  </tbody>\n",
       "</table>\n",
       "<p>182593 rows × 3 columns</p>\n",
       "</div>"
      ],
      "text/plain": [
       "         index  intensity  size\n",
       "0            0       4927    11\n",
       "1            1       4108   118\n",
       "2            2       5072   157\n",
       "3            3       4629   110\n",
       "4            4       2910    35\n",
       "...        ...        ...   ...\n",
       "182588  182588      21569   199\n",
       "182589  182589       1853    16\n",
       "182590  182590       1638    11\n",
       "182591  182591       1499     2\n",
       "182592  182592       1447     2\n",
       "\n",
       "[182593 rows x 3 columns]"
      ]
     },
     "execution_count": 24,
     "metadata": {},
     "output_type": "execute_result"
    }
   ],
   "source": [
    "data_1"
   ]
  },
  {
   "cell_type": "code",
   "execution_count": 25,
   "metadata": {},
   "outputs": [],
   "source": [
    "index1=np.array(data_1[\"index\"])"
   ]
  },
  {
   "cell_type": "code",
   "execution_count": 26,
   "metadata": {},
   "outputs": [],
   "source": [
    "df = pd.DataFrame({\n",
    "    \"index\":  index1,\n",
    "    \"centroid_x\": pd.Series(centroid_x),\n",
    "    \"centroid_y\": pd.Series(centroid_y),\n",
    "    \"centroid_z\": pd.Series(centroid_z),\n",
    "})"
   ]
  },
  {
   "cell_type": "code",
   "execution_count": 27,
   "metadata": {},
   "outputs": [
    {
     "data": {
      "text/html": [
       "<div>\n",
       "<style scoped>\n",
       "    .dataframe tbody tr th:only-of-type {\n",
       "        vertical-align: middle;\n",
       "    }\n",
       "\n",
       "    .dataframe tbody tr th {\n",
       "        vertical-align: top;\n",
       "    }\n",
       "\n",
       "    .dataframe thead th {\n",
       "        text-align: right;\n",
       "    }\n",
       "</style>\n",
       "<table border=\"1\" class=\"dataframe\">\n",
       "  <thead>\n",
       "    <tr style=\"text-align: right;\">\n",
       "      <th></th>\n",
       "      <th>index</th>\n",
       "      <th>centroid_x</th>\n",
       "      <th>centroid_y</th>\n",
       "      <th>centroid_z</th>\n",
       "    </tr>\n",
       "  </thead>\n",
       "  <tbody>\n",
       "    <tr>\n",
       "      <th>0</th>\n",
       "      <td>0</td>\n",
       "      <td>1354.831582</td>\n",
       "      <td>1216.863271</td>\n",
       "      <td>65.150221</td>\n",
       "    </tr>\n",
       "    <tr>\n",
       "      <th>1</th>\n",
       "      <td>1</td>\n",
       "      <td>1314.356871</td>\n",
       "      <td>1236.062856</td>\n",
       "      <td>68.231632</td>\n",
       "    </tr>\n",
       "    <tr>\n",
       "      <th>2</th>\n",
       "      <td>2</td>\n",
       "      <td>1301.592156</td>\n",
       "      <td>1122.616467</td>\n",
       "      <td>69.712328</td>\n",
       "    </tr>\n",
       "    <tr>\n",
       "      <th>3</th>\n",
       "      <td>3</td>\n",
       "      <td>1262.838835</td>\n",
       "      <td>1173.762954</td>\n",
       "      <td>69.492205</td>\n",
       "    </tr>\n",
       "    <tr>\n",
       "      <th>4</th>\n",
       "      <td>4</td>\n",
       "      <td>1374.184116</td>\n",
       "      <td>1199.055714</td>\n",
       "      <td>66.795161</td>\n",
       "    </tr>\n",
       "    <tr>\n",
       "      <th>...</th>\n",
       "      <td>...</td>\n",
       "      <td>...</td>\n",
       "      <td>...</td>\n",
       "      <td>...</td>\n",
       "    </tr>\n",
       "    <tr>\n",
       "      <th>182588</th>\n",
       "      <td>182588</td>\n",
       "      <td>1096.304892</td>\n",
       "      <td>2014.810917</td>\n",
       "      <td>1279.005311</td>\n",
       "    </tr>\n",
       "    <tr>\n",
       "      <th>182589</th>\n",
       "      <td>182589</td>\n",
       "      <td>1167.369510</td>\n",
       "      <td>2082.431977</td>\n",
       "      <td>1275.652717</td>\n",
       "    </tr>\n",
       "    <tr>\n",
       "      <th>182590</th>\n",
       "      <td>182590</td>\n",
       "      <td>1159.355720</td>\n",
       "      <td>2108.363474</td>\n",
       "      <td>1282.173267</td>\n",
       "    </tr>\n",
       "    <tr>\n",
       "      <th>182591</th>\n",
       "      <td>182591</td>\n",
       "      <td>1173.000000</td>\n",
       "      <td>2037.000000</td>\n",
       "      <td>1284.489615</td>\n",
       "    </tr>\n",
       "    <tr>\n",
       "      <th>182592</th>\n",
       "      <td>182592</td>\n",
       "      <td>1195.000000</td>\n",
       "      <td>2095.000000</td>\n",
       "      <td>1289.497569</td>\n",
       "    </tr>\n",
       "  </tbody>\n",
       "</table>\n",
       "<p>182593 rows × 4 columns</p>\n",
       "</div>"
      ],
      "text/plain": [
       "         index   centroid_x   centroid_y   centroid_z\n",
       "0            0  1354.831582  1216.863271    65.150221\n",
       "1            1  1314.356871  1236.062856    68.231632\n",
       "2            2  1301.592156  1122.616467    69.712328\n",
       "3            3  1262.838835  1173.762954    69.492205\n",
       "4            4  1374.184116  1199.055714    66.795161\n",
       "...        ...          ...          ...          ...\n",
       "182588  182588  1096.304892  2014.810917  1279.005311\n",
       "182589  182589  1167.369510  2082.431977  1275.652717\n",
       "182590  182590  1159.355720  2108.363474  1282.173267\n",
       "182591  182591  1173.000000  2037.000000  1284.489615\n",
       "182592  182592  1195.000000  2095.000000  1289.497569\n",
       "\n",
       "[182593 rows x 4 columns]"
      ]
     },
     "execution_count": 27,
     "metadata": {},
     "output_type": "execute_result"
    }
   ],
   "source": [
    "df"
   ]
  },
  {
   "cell_type": "code",
   "execution_count": 28,
   "metadata": {},
   "outputs": [],
   "source": [
    "dir1 =  \"/export3/Imaging/ds4_Data4/\"+PathPool[0]\n",
    "\n",
    "csv_tau = dir1 + \"csv_tau2.csv\"\n",
    "\n",
    "df= df.astype('int')\n",
    "df.to_csv(csv_tau, index=False, header=True, chunksize=50000,\n",
    "            columns=[\"index\",\"centroid_x\",\"centroid_y\",\"centroid_z\"])"
   ]
  },
  {
   "cell_type": "code",
   "execution_count": 29,
   "metadata": {},
   "outputs": [],
   "source": [
    "# umに直す"
   ]
  },
  {
   "cell_type": "code",
   "execution_count": 30,
   "metadata": {},
   "outputs": [],
   "source": [
    "data_1 = pd.read_csv(filepath_or_buffer=dir1 + \"csv_tau1.csv\", encoding=\"ms932\", sep=\",\")\n",
    "data_2 = pd.read_csv(filepath_or_buffer=dir1 + \"csv_tau2.csv\", encoding=\"ms932\", sep=\",\")"
   ]
  },
  {
   "cell_type": "code",
   "execution_count": 31,
   "metadata": {},
   "outputs": [
    {
     "data": {
      "text/html": [
       "<div>\n",
       "<style scoped>\n",
       "    .dataframe tbody tr th:only-of-type {\n",
       "        vertical-align: middle;\n",
       "    }\n",
       "\n",
       "    .dataframe tbody tr th {\n",
       "        vertical-align: top;\n",
       "    }\n",
       "\n",
       "    .dataframe thead th {\n",
       "        text-align: right;\n",
       "    }\n",
       "</style>\n",
       "<table border=\"1\" class=\"dataframe\">\n",
       "  <thead>\n",
       "    <tr style=\"text-align: right;\">\n",
       "      <th></th>\n",
       "      <th>index</th>\n",
       "      <th>centroid_x</th>\n",
       "      <th>centroid_y</th>\n",
       "      <th>centroid_z</th>\n",
       "    </tr>\n",
       "  </thead>\n",
       "  <tbody>\n",
       "    <tr>\n",
       "      <th>0</th>\n",
       "      <td>0</td>\n",
       "      <td>1354</td>\n",
       "      <td>1216</td>\n",
       "      <td>65</td>\n",
       "    </tr>\n",
       "    <tr>\n",
       "      <th>1</th>\n",
       "      <td>1</td>\n",
       "      <td>1314</td>\n",
       "      <td>1236</td>\n",
       "      <td>68</td>\n",
       "    </tr>\n",
       "    <tr>\n",
       "      <th>2</th>\n",
       "      <td>2</td>\n",
       "      <td>1301</td>\n",
       "      <td>1122</td>\n",
       "      <td>69</td>\n",
       "    </tr>\n",
       "    <tr>\n",
       "      <th>3</th>\n",
       "      <td>3</td>\n",
       "      <td>1262</td>\n",
       "      <td>1173</td>\n",
       "      <td>69</td>\n",
       "    </tr>\n",
       "    <tr>\n",
       "      <th>4</th>\n",
       "      <td>4</td>\n",
       "      <td>1374</td>\n",
       "      <td>1199</td>\n",
       "      <td>66</td>\n",
       "    </tr>\n",
       "    <tr>\n",
       "      <th>...</th>\n",
       "      <td>...</td>\n",
       "      <td>...</td>\n",
       "      <td>...</td>\n",
       "      <td>...</td>\n",
       "    </tr>\n",
       "    <tr>\n",
       "      <th>182588</th>\n",
       "      <td>182588</td>\n",
       "      <td>1096</td>\n",
       "      <td>2014</td>\n",
       "      <td>1279</td>\n",
       "    </tr>\n",
       "    <tr>\n",
       "      <th>182589</th>\n",
       "      <td>182589</td>\n",
       "      <td>1167</td>\n",
       "      <td>2082</td>\n",
       "      <td>1275</td>\n",
       "    </tr>\n",
       "    <tr>\n",
       "      <th>182590</th>\n",
       "      <td>182590</td>\n",
       "      <td>1159</td>\n",
       "      <td>2108</td>\n",
       "      <td>1282</td>\n",
       "    </tr>\n",
       "    <tr>\n",
       "      <th>182591</th>\n",
       "      <td>182591</td>\n",
       "      <td>1173</td>\n",
       "      <td>2037</td>\n",
       "      <td>1284</td>\n",
       "    </tr>\n",
       "    <tr>\n",
       "      <th>182592</th>\n",
       "      <td>182592</td>\n",
       "      <td>1195</td>\n",
       "      <td>2095</td>\n",
       "      <td>1289</td>\n",
       "    </tr>\n",
       "  </tbody>\n",
       "</table>\n",
       "<p>182593 rows × 4 columns</p>\n",
       "</div>"
      ],
      "text/plain": [
       "         index  centroid_x  centroid_y  centroid_z\n",
       "0            0        1354        1216          65\n",
       "1            1        1314        1236          68\n",
       "2            2        1301        1122          69\n",
       "3            3        1262        1173          69\n",
       "4            4        1374        1199          66\n",
       "...        ...         ...         ...         ...\n",
       "182588  182588        1096        2014        1279\n",
       "182589  182589        1167        2082        1275\n",
       "182590  182590        1159        2108        1282\n",
       "182591  182591        1173        2037        1284\n",
       "182592  182592        1195        2095        1289\n",
       "\n",
       "[182593 rows x 4 columns]"
      ]
     },
     "execution_count": 31,
     "metadata": {},
     "output_type": "execute_result"
    }
   ],
   "source": [
    "data_2"
   ]
  },
  {
   "cell_type": "code",
   "execution_count": 32,
   "metadata": {},
   "outputs": [],
   "source": [
    "blunk_array_0 =np.full(len(data_2[\"centroid_x\"]), 0.0)"
   ]
  },
  {
   "cell_type": "code",
   "execution_count": 33,
   "metadata": {},
   "outputs": [],
   "source": [
    "df12 = []\n",
    "df12 = pd.DataFrame({\n",
    "    \"X\":pd.Series(data_2[\"centroid_x\"], dtype=np.int64),\n",
    "    \"Y\":pd.Series(data_2[\"centroid_y\"], dtype=np.int64),\n",
    "    \"Z\":pd.Series(data_2[\"centroid_z\"], dtype=np.int64),\n",
    "    \"deltaI\":pd.Series(data_1[\"intensity\"], dtype=np.int64),\n",
    "    \"BG\":pd.Series(blunk_array_0, dtype=np.int64),\n",
    "    \"vol\":pd.Series(data_1[\"size\"], dtype=np.int64),\n",
    "    \"deltaI_total\":pd.Series(data_1[\"intensity\"], dtype=np.int64)\n",
    "        })"
   ]
  },
  {
   "cell_type": "code",
   "execution_count": 34,
   "metadata": {},
   "outputs": [
    {
     "data": {
      "text/html": [
       "<div>\n",
       "<style scoped>\n",
       "    .dataframe tbody tr th:only-of-type {\n",
       "        vertical-align: middle;\n",
       "    }\n",
       "\n",
       "    .dataframe tbody tr th {\n",
       "        vertical-align: top;\n",
       "    }\n",
       "\n",
       "    .dataframe thead th {\n",
       "        text-align: right;\n",
       "    }\n",
       "</style>\n",
       "<table border=\"1\" class=\"dataframe\">\n",
       "  <thead>\n",
       "    <tr style=\"text-align: right;\">\n",
       "      <th></th>\n",
       "      <th>X</th>\n",
       "      <th>Y</th>\n",
       "      <th>Z</th>\n",
       "      <th>deltaI</th>\n",
       "      <th>BG</th>\n",
       "      <th>vol</th>\n",
       "      <th>deltaI_total</th>\n",
       "    </tr>\n",
       "  </thead>\n",
       "  <tbody>\n",
       "    <tr>\n",
       "      <th>0</th>\n",
       "      <td>1354</td>\n",
       "      <td>1216</td>\n",
       "      <td>65</td>\n",
       "      <td>4927</td>\n",
       "      <td>0</td>\n",
       "      <td>11</td>\n",
       "      <td>4927</td>\n",
       "    </tr>\n",
       "    <tr>\n",
       "      <th>1</th>\n",
       "      <td>1314</td>\n",
       "      <td>1236</td>\n",
       "      <td>68</td>\n",
       "      <td>4108</td>\n",
       "      <td>0</td>\n",
       "      <td>118</td>\n",
       "      <td>4108</td>\n",
       "    </tr>\n",
       "    <tr>\n",
       "      <th>2</th>\n",
       "      <td>1301</td>\n",
       "      <td>1122</td>\n",
       "      <td>69</td>\n",
       "      <td>5072</td>\n",
       "      <td>0</td>\n",
       "      <td>157</td>\n",
       "      <td>5072</td>\n",
       "    </tr>\n",
       "    <tr>\n",
       "      <th>3</th>\n",
       "      <td>1262</td>\n",
       "      <td>1173</td>\n",
       "      <td>69</td>\n",
       "      <td>4629</td>\n",
       "      <td>0</td>\n",
       "      <td>110</td>\n",
       "      <td>4629</td>\n",
       "    </tr>\n",
       "    <tr>\n",
       "      <th>4</th>\n",
       "      <td>1374</td>\n",
       "      <td>1199</td>\n",
       "      <td>66</td>\n",
       "      <td>2910</td>\n",
       "      <td>0</td>\n",
       "      <td>35</td>\n",
       "      <td>2910</td>\n",
       "    </tr>\n",
       "    <tr>\n",
       "      <th>...</th>\n",
       "      <td>...</td>\n",
       "      <td>...</td>\n",
       "      <td>...</td>\n",
       "      <td>...</td>\n",
       "      <td>...</td>\n",
       "      <td>...</td>\n",
       "      <td>...</td>\n",
       "    </tr>\n",
       "    <tr>\n",
       "      <th>182588</th>\n",
       "      <td>1096</td>\n",
       "      <td>2014</td>\n",
       "      <td>1279</td>\n",
       "      <td>21569</td>\n",
       "      <td>0</td>\n",
       "      <td>199</td>\n",
       "      <td>21569</td>\n",
       "    </tr>\n",
       "    <tr>\n",
       "      <th>182589</th>\n",
       "      <td>1167</td>\n",
       "      <td>2082</td>\n",
       "      <td>1275</td>\n",
       "      <td>1853</td>\n",
       "      <td>0</td>\n",
       "      <td>16</td>\n",
       "      <td>1853</td>\n",
       "    </tr>\n",
       "    <tr>\n",
       "      <th>182590</th>\n",
       "      <td>1159</td>\n",
       "      <td>2108</td>\n",
       "      <td>1282</td>\n",
       "      <td>1638</td>\n",
       "      <td>0</td>\n",
       "      <td>11</td>\n",
       "      <td>1638</td>\n",
       "    </tr>\n",
       "    <tr>\n",
       "      <th>182591</th>\n",
       "      <td>1173</td>\n",
       "      <td>2037</td>\n",
       "      <td>1284</td>\n",
       "      <td>1499</td>\n",
       "      <td>0</td>\n",
       "      <td>2</td>\n",
       "      <td>1499</td>\n",
       "    </tr>\n",
       "    <tr>\n",
       "      <th>182592</th>\n",
       "      <td>1195</td>\n",
       "      <td>2095</td>\n",
       "      <td>1289</td>\n",
       "      <td>1447</td>\n",
       "      <td>0</td>\n",
       "      <td>2</td>\n",
       "      <td>1447</td>\n",
       "    </tr>\n",
       "  </tbody>\n",
       "</table>\n",
       "<p>182593 rows × 7 columns</p>\n",
       "</div>"
      ],
      "text/plain": [
       "           X     Y     Z  deltaI  BG  vol  deltaI_total\n",
       "0       1354  1216    65    4927   0   11          4927\n",
       "1       1314  1236    68    4108   0  118          4108\n",
       "2       1301  1122    69    5072   0  157          5072\n",
       "3       1262  1173    69    4629   0  110          4629\n",
       "4       1374  1199    66    2910   0   35          2910\n",
       "...      ...   ...   ...     ...  ..  ...           ...\n",
       "182588  1096  2014  1279   21569   0  199         21569\n",
       "182589  1167  2082  1275    1853   0   16          1853\n",
       "182590  1159  2108  1282    1638   0   11          1638\n",
       "182591  1173  2037  1284    1499   0    2          1499\n",
       "182592  1195  2095  1289    1447   0    2          1447\n",
       "\n",
       "[182593 rows x 7 columns]"
      ]
     },
     "execution_count": 34,
     "metadata": {},
     "output_type": "execute_result"
    }
   ],
   "source": [
    "df12"
   ]
  },
  {
   "cell_type": "code",
   "execution_count": 35,
   "metadata": {},
   "outputs": [
    {
     "data": {
      "text/plain": [
       "1950"
      ]
     },
     "execution_count": 35,
     "metadata": {},
     "output_type": "execute_result"
    }
   ],
   "source": [
    "df12[\"X\"].max()"
   ]
  },
  {
   "cell_type": "code",
   "execution_count": 36,
   "metadata": {},
   "outputs": [
    {
     "data": {
      "text/plain": [
       "2212"
      ]
     },
     "execution_count": 36,
     "metadata": {},
     "output_type": "execute_result"
    }
   ],
   "source": [
    "df12[\"Y\"].max()"
   ]
  },
  {
   "cell_type": "code",
   "execution_count": 37,
   "metadata": {},
   "outputs": [
    {
     "data": {
      "text/plain": [
       "1289"
      ]
     },
     "execution_count": 37,
     "metadata": {},
     "output_type": "execute_result"
    }
   ],
   "source": [
    "df12[\"Z\"].max()"
   ]
  },
  {
   "cell_type": "code",
   "execution_count": 38,
   "metadata": {},
   "outputs": [],
   "source": [
    "dir1 = \"/export3/Imaging/ds4_Data4/\"+PathPool[0]\n",
    "\n",
    "csv_tau = dir1 + \"csv_tau12.csv\"\n",
    "\n",
    "df12= df12.astype('int')\n",
    "df12.to_csv(csv_tau, index=False, header=True, chunksize=50000,\n",
    "            columns=[\"X\",\"Y\",\"Z\",\"deltaI\",\"BG\",\"vol\",\"deltaI_total\"])"
   ]
  },
  {
   "cell_type": "code",
   "execution_count": 39,
   "metadata": {},
   "outputs": [],
   "source": [
    "# um解像度\n",
    "scale = 10 #um\n",
    "\n",
    "df13 = []\n",
    "df13 = pd.DataFrame({\n",
    "    \"X\":pd.Series(data_2[\"centroid_x\"]*scale, dtype=np.int64),\n",
    "    \"Y\":pd.Series(data_2[\"centroid_y\"]*scale, dtype=np.int64),\n",
    "    \"Z\":pd.Series(data_2[\"centroid_z\"]*scale, dtype=np.int64),\n",
    "    \"deltaI\":pd.Series(data_1[\"intensity\"], dtype=np.int64),\n",
    "    \"BG\":pd.Series(blunk_array_0, dtype=np.int64),\n",
    "    \"vol\":pd.Series(data_1[\"size\"]*scale*scale*scale, dtype=np.int64),\n",
    "    \"deltaI_total\":pd.Series(data_1[\"intensity\"], dtype=np.int64)\n",
    "        })\n",
    "\n",
    "\n",
    "dir1 =  \"/export3/Imaging/ds4_Data4/\"+PathPool[0]\n",
    "\n",
    "csv_tau = dir1 + \"csv_tau12_um.csv\"\n",
    "\n",
    "df13= df13.astype('int')\n",
    "df13.to_csv(csv_tau, index=False, header=True, chunksize=50000,\n",
    "            columns=[\"X\",\"Y\",\"Z\",\"deltaI\",\"BG\",\"vol\",\"deltaI_total\"])"
   ]
  },
  {
   "cell_type": "code",
   "execution_count": 40,
   "metadata": {},
   "outputs": [
    {
     "data": {
      "text/html": [
       "<div>\n",
       "<style scoped>\n",
       "    .dataframe tbody tr th:only-of-type {\n",
       "        vertical-align: middle;\n",
       "    }\n",
       "\n",
       "    .dataframe tbody tr th {\n",
       "        vertical-align: top;\n",
       "    }\n",
       "\n",
       "    .dataframe thead th {\n",
       "        text-align: right;\n",
       "    }\n",
       "</style>\n",
       "<table border=\"1\" class=\"dataframe\">\n",
       "  <thead>\n",
       "    <tr style=\"text-align: right;\">\n",
       "      <th></th>\n",
       "      <th>X</th>\n",
       "      <th>Y</th>\n",
       "      <th>Z</th>\n",
       "      <th>deltaI</th>\n",
       "      <th>BG</th>\n",
       "      <th>vol</th>\n",
       "      <th>deltaI_total</th>\n",
       "    </tr>\n",
       "  </thead>\n",
       "  <tbody>\n",
       "    <tr>\n",
       "      <th>0</th>\n",
       "      <td>13540</td>\n",
       "      <td>12160</td>\n",
       "      <td>650</td>\n",
       "      <td>4927</td>\n",
       "      <td>0</td>\n",
       "      <td>11000</td>\n",
       "      <td>4927</td>\n",
       "    </tr>\n",
       "    <tr>\n",
       "      <th>1</th>\n",
       "      <td>13140</td>\n",
       "      <td>12360</td>\n",
       "      <td>680</td>\n",
       "      <td>4108</td>\n",
       "      <td>0</td>\n",
       "      <td>118000</td>\n",
       "      <td>4108</td>\n",
       "    </tr>\n",
       "    <tr>\n",
       "      <th>2</th>\n",
       "      <td>13010</td>\n",
       "      <td>11220</td>\n",
       "      <td>690</td>\n",
       "      <td>5072</td>\n",
       "      <td>0</td>\n",
       "      <td>157000</td>\n",
       "      <td>5072</td>\n",
       "    </tr>\n",
       "    <tr>\n",
       "      <th>3</th>\n",
       "      <td>12620</td>\n",
       "      <td>11730</td>\n",
       "      <td>690</td>\n",
       "      <td>4629</td>\n",
       "      <td>0</td>\n",
       "      <td>110000</td>\n",
       "      <td>4629</td>\n",
       "    </tr>\n",
       "    <tr>\n",
       "      <th>4</th>\n",
       "      <td>13740</td>\n",
       "      <td>11990</td>\n",
       "      <td>660</td>\n",
       "      <td>2910</td>\n",
       "      <td>0</td>\n",
       "      <td>35000</td>\n",
       "      <td>2910</td>\n",
       "    </tr>\n",
       "    <tr>\n",
       "      <th>...</th>\n",
       "      <td>...</td>\n",
       "      <td>...</td>\n",
       "      <td>...</td>\n",
       "      <td>...</td>\n",
       "      <td>...</td>\n",
       "      <td>...</td>\n",
       "      <td>...</td>\n",
       "    </tr>\n",
       "    <tr>\n",
       "      <th>182588</th>\n",
       "      <td>10960</td>\n",
       "      <td>20140</td>\n",
       "      <td>12790</td>\n",
       "      <td>21569</td>\n",
       "      <td>0</td>\n",
       "      <td>199000</td>\n",
       "      <td>21569</td>\n",
       "    </tr>\n",
       "    <tr>\n",
       "      <th>182589</th>\n",
       "      <td>11670</td>\n",
       "      <td>20820</td>\n",
       "      <td>12750</td>\n",
       "      <td>1853</td>\n",
       "      <td>0</td>\n",
       "      <td>16000</td>\n",
       "      <td>1853</td>\n",
       "    </tr>\n",
       "    <tr>\n",
       "      <th>182590</th>\n",
       "      <td>11590</td>\n",
       "      <td>21080</td>\n",
       "      <td>12820</td>\n",
       "      <td>1638</td>\n",
       "      <td>0</td>\n",
       "      <td>11000</td>\n",
       "      <td>1638</td>\n",
       "    </tr>\n",
       "    <tr>\n",
       "      <th>182591</th>\n",
       "      <td>11730</td>\n",
       "      <td>20370</td>\n",
       "      <td>12840</td>\n",
       "      <td>1499</td>\n",
       "      <td>0</td>\n",
       "      <td>2000</td>\n",
       "      <td>1499</td>\n",
       "    </tr>\n",
       "    <tr>\n",
       "      <th>182592</th>\n",
       "      <td>11950</td>\n",
       "      <td>20950</td>\n",
       "      <td>12890</td>\n",
       "      <td>1447</td>\n",
       "      <td>0</td>\n",
       "      <td>2000</td>\n",
       "      <td>1447</td>\n",
       "    </tr>\n",
       "  </tbody>\n",
       "</table>\n",
       "<p>182593 rows × 7 columns</p>\n",
       "</div>"
      ],
      "text/plain": [
       "            X      Y      Z  deltaI  BG     vol  deltaI_total\n",
       "0       13540  12160    650    4927   0   11000          4927\n",
       "1       13140  12360    680    4108   0  118000          4108\n",
       "2       13010  11220    690    5072   0  157000          5072\n",
       "3       12620  11730    690    4629   0  110000          4629\n",
       "4       13740  11990    660    2910   0   35000          2910\n",
       "...       ...    ...    ...     ...  ..     ...           ...\n",
       "182588  10960  20140  12790   21569   0  199000         21569\n",
       "182589  11670  20820  12750    1853   0   16000          1853\n",
       "182590  11590  21080  12820    1638   0   11000          1638\n",
       "182591  11730  20370  12840    1499   0    2000          1499\n",
       "182592  11950  20950  12890    1447   0    2000          1447\n",
       "\n",
       "[182593 rows x 7 columns]"
      ]
     },
     "execution_count": 40,
     "metadata": {},
     "output_type": "execute_result"
    }
   ],
   "source": [
    "df13"
   ]
  },
  {
   "cell_type": "code",
   "execution_count": 41,
   "metadata": {},
   "outputs": [],
   "source": [
    "# いったん画像で確認\n",
    "scale=10 # um\n",
    "scale=scale/50 # 50um scaleに変換\n",
    "\n",
    "ptsw25 = []\n",
    "ptsw25 = pd.DataFrame({\n",
    "    \"x\":pd.Series(np.array(df12[\"X\"])*scale, dtype=np.float),\n",
    "    \"y\":pd.Series(np.array(df12[\"Y\"])*scale, dtype=np.float),\n",
    "    \"z\":pd.Series(np.array(df12[\"Z\"])*scale, dtype=np.float),\n",
    "        })"
   ]
  },
  {
   "cell_type": "code",
   "execution_count": 42,
   "metadata": {},
   "outputs": [
    {
     "data": {
      "text/html": [
       "<div>\n",
       "<style scoped>\n",
       "    .dataframe tbody tr th:only-of-type {\n",
       "        vertical-align: middle;\n",
       "    }\n",
       "\n",
       "    .dataframe tbody tr th {\n",
       "        vertical-align: top;\n",
       "    }\n",
       "\n",
       "    .dataframe thead th {\n",
       "        text-align: right;\n",
       "    }\n",
       "</style>\n",
       "<table border=\"1\" class=\"dataframe\">\n",
       "  <thead>\n",
       "    <tr style=\"text-align: right;\">\n",
       "      <th></th>\n",
       "      <th>x</th>\n",
       "      <th>y</th>\n",
       "      <th>z</th>\n",
       "    </tr>\n",
       "  </thead>\n",
       "  <tbody>\n",
       "    <tr>\n",
       "      <th>0</th>\n",
       "      <td>270.8</td>\n",
       "      <td>243.2</td>\n",
       "      <td>13.0</td>\n",
       "    </tr>\n",
       "    <tr>\n",
       "      <th>1</th>\n",
       "      <td>262.8</td>\n",
       "      <td>247.2</td>\n",
       "      <td>13.6</td>\n",
       "    </tr>\n",
       "    <tr>\n",
       "      <th>2</th>\n",
       "      <td>260.2</td>\n",
       "      <td>224.4</td>\n",
       "      <td>13.8</td>\n",
       "    </tr>\n",
       "    <tr>\n",
       "      <th>3</th>\n",
       "      <td>252.4</td>\n",
       "      <td>234.6</td>\n",
       "      <td>13.8</td>\n",
       "    </tr>\n",
       "    <tr>\n",
       "      <th>4</th>\n",
       "      <td>274.8</td>\n",
       "      <td>239.8</td>\n",
       "      <td>13.2</td>\n",
       "    </tr>\n",
       "    <tr>\n",
       "      <th>...</th>\n",
       "      <td>...</td>\n",
       "      <td>...</td>\n",
       "      <td>...</td>\n",
       "    </tr>\n",
       "    <tr>\n",
       "      <th>182588</th>\n",
       "      <td>219.2</td>\n",
       "      <td>402.8</td>\n",
       "      <td>255.8</td>\n",
       "    </tr>\n",
       "    <tr>\n",
       "      <th>182589</th>\n",
       "      <td>233.4</td>\n",
       "      <td>416.4</td>\n",
       "      <td>255.0</td>\n",
       "    </tr>\n",
       "    <tr>\n",
       "      <th>182590</th>\n",
       "      <td>231.8</td>\n",
       "      <td>421.6</td>\n",
       "      <td>256.4</td>\n",
       "    </tr>\n",
       "    <tr>\n",
       "      <th>182591</th>\n",
       "      <td>234.6</td>\n",
       "      <td>407.4</td>\n",
       "      <td>256.8</td>\n",
       "    </tr>\n",
       "    <tr>\n",
       "      <th>182592</th>\n",
       "      <td>239.0</td>\n",
       "      <td>419.0</td>\n",
       "      <td>257.8</td>\n",
       "    </tr>\n",
       "  </tbody>\n",
       "</table>\n",
       "<p>182593 rows × 3 columns</p>\n",
       "</div>"
      ],
      "text/plain": [
       "            x      y      z\n",
       "0       270.8  243.2   13.0\n",
       "1       262.8  247.2   13.6\n",
       "2       260.2  224.4   13.8\n",
       "3       252.4  234.6   13.8\n",
       "4       274.8  239.8   13.2\n",
       "...       ...    ...    ...\n",
       "182588  219.2  402.8  255.8\n",
       "182589  233.4  416.4  255.0\n",
       "182590  231.8  421.6  256.4\n",
       "182591  234.6  407.4  256.8\n",
       "182592  239.0  419.0  257.8\n",
       "\n",
       "[182593 rows x 3 columns]"
      ]
     },
     "execution_count": 42,
     "metadata": {},
     "output_type": "execute_result"
    }
   ],
   "source": [
    "ptsw25"
   ]
  },
  {
   "cell_type": "code",
   "execution_count": null,
   "metadata": {},
   "outputs": [],
   "source": []
  },
  {
   "cell_type": "code",
   "execution_count": 43,
   "metadata": {},
   "outputs": [],
   "source": [
    "#depth_ori = int(np.floor(np.max(ptsw25['z'].values)))\n",
    "#height_ori =int(np.floor(np.max(ptsw25['y'].values)))\n",
    "#width_ori = int(np.floor(np.max(ptsw25['x'].values)))\n",
    "# (1068, 2005, 1692)\n",
    "# (1245, 2304, 1930)\n",
    "depth_ori = int(1245*scale)\n",
    "height_ori =int(2304*scale)\n",
    "width_ori = int(1930*scale)\n",
    "\n",
    "img_N_ori,_ = np.histogramdd(\n",
    "    np.vstack([\n",
    "        ptsw25['z'].values,\n",
    "        ptsw25['y'].values,\n",
    "        ptsw25['x'].values\n",
    "        ]).T,\n",
    "        bins=(depth_ori, height_ori, width_ori),\n",
    "        range=[(0,depth_ori-1),(0,height_ori-1),(0,width_ori-1)]\n",
    "    )\n",
    "        "
   ]
  },
  {
   "cell_type": "code",
   "execution_count": 44,
   "metadata": {},
   "outputs": [],
   "source": [
    "tifffile.imsave(\n",
    "        dir1+ \"tau_density_50um.tif\",\n",
    "        img_N_ori.astype(np.uint16)\n",
    "    )"
   ]
  },
  {
   "cell_type": "code",
   "execution_count": 45,
   "metadata": {},
   "outputs": [],
   "source": [
    "# CUBIC-Cloudに投げる"
   ]
  },
  {
   "cell_type": "code",
   "execution_count": 46,
   "metadata": {},
   "outputs": [],
   "source": [
    "# 必要あればさらに閾値を切ることはできる。\n",
    "#classify_unsupervised(self, features, i_feature_maximize=2, n_components=3):"
   ]
  },
  {
   "cell_type": "code",
   "execution_count": null,
   "metadata": {},
   "outputs": [],
   "source": []
  },
  {
   "cell_type": "code",
   "execution_count": null,
   "metadata": {},
   "outputs": [],
   "source": []
  },
  {
   "cell_type": "code",
   "execution_count": null,
   "metadata": {},
   "outputs": [],
   "source": []
  }
 ],
 "metadata": {
  "kernelspec": {
   "display_name": "Python 3",
   "language": "python",
   "name": "python3"
  },
  "language_info": {
   "codemirror_mode": {
    "name": "ipython",
    "version": 3
   },
   "file_extension": ".py",
   "mimetype": "text/x-python",
   "name": "python",
   "nbconvert_exporter": "python",
   "pygments_lexer": "ipython3",
   "version": "3.6.8"
  }
 },
 "nbformat": 4,
 "nbformat_minor": 4
}
