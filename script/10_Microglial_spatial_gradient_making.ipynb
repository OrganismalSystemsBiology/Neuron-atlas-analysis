{
 "cells": [
  {
   "cell_type": "code",
   "execution_count": 1,
   "metadata": {},
   "outputs": [],
   "source": [
    "%matplotlib inline\n",
    "import matplotlib.pyplot as plt\n",
    "import numpy as np\n",
    "import joblib, json, sys, os\n",
    "from IPython.display import Image, display_png\n",
    "\n",
    "sys.path.append(\"../script/\")\n",
    "from MergeBrain import WholeBrainCells\n",
    "import matplotlib.pyplot as plt\n",
    "import pandas as pd\n",
    "\n",
    "import sys, os, os.path, re, csv, math\n",
    "import linecache\n",
    "import numpy as  np\n",
    "import pandas as pd\n",
    "from matplotlib import pyplot as plt\n",
    "from statistics import mean,stdev\n",
    "import seaborn as sns\n",
    "\n",
    "import csv\n",
    "import pprint\n",
    "import ants\n",
    "import tifffile\n",
    "from multiprocessing import Pool\n",
    "import datetime\n",
    "from itertools import product\n",
    "\n",
    "import numpy as np\n",
    "import tifffile\n",
    "import os\n",
    "import pickle\n",
    "import joblib\n",
    "import pandas as pd\n",
    "from matplotlib import pyplot as plt\n",
    "import concurrent.futures\n",
    "import gc\n",
    "import json"
   ]
  },
  {
   "cell_type": "code",
   "execution_count": 2,
   "metadata": {},
   "outputs": [
    {
     "data": {
      "text/html": [
       "<div>\n",
       "<style scoped>\n",
       "    .dataframe tbody tr th:only-of-type {\n",
       "        vertical-align: middle;\n",
       "    }\n",
       "\n",
       "    .dataframe tbody tr th {\n",
       "        vertical-align: top;\n",
       "    }\n",
       "\n",
       "    .dataframe thead th {\n",
       "        text-align: right;\n",
       "    }\n",
       "</style>\n",
       "<table border=\"1\" class=\"dataframe\">\n",
       "  <thead>\n",
       "    <tr style=\"text-align: right;\">\n",
       "      <th></th>\n",
       "      <th>id</th>\n",
       "      <th>graph_order</th>\n",
       "      <th>R</th>\n",
       "      <th>G</th>\n",
       "      <th>B</th>\n",
       "    </tr>\n",
       "  </thead>\n",
       "  <tbody>\n",
       "    <tr>\n",
       "      <th>0</th>\n",
       "      <td>997</td>\n",
       "      <td>0</td>\n",
       "      <td>255</td>\n",
       "      <td>255</td>\n",
       "      <td>255</td>\n",
       "    </tr>\n",
       "    <tr>\n",
       "      <th>1</th>\n",
       "      <td>68</td>\n",
       "      <td>7</td>\n",
       "      <td>38</td>\n",
       "      <td>143</td>\n",
       "      <td>69</td>\n",
       "    </tr>\n",
       "    <tr>\n",
       "      <th>2</th>\n",
       "      <td>667</td>\n",
       "      <td>8</td>\n",
       "      <td>38</td>\n",
       "      <td>143</td>\n",
       "      <td>69</td>\n",
       "    </tr>\n",
       "    <tr>\n",
       "      <th>3</th>\n",
       "      <td>52192</td>\n",
       "      <td>9</td>\n",
       "      <td>38</td>\n",
       "      <td>143</td>\n",
       "      <td>69</td>\n",
       "    </tr>\n",
       "    <tr>\n",
       "      <th>4</th>\n",
       "      <td>52196</td>\n",
       "      <td>10</td>\n",
       "      <td>38</td>\n",
       "      <td>143</td>\n",
       "      <td>69</td>\n",
       "    </tr>\n",
       "    <tr>\n",
       "      <th>...</th>\n",
       "      <td>...</td>\n",
       "      <td>...</td>\n",
       "      <td>...</td>\n",
       "      <td>...</td>\n",
       "      <td>...</td>\n",
       "    </tr>\n",
       "    <tr>\n",
       "      <th>666</th>\n",
       "      <td>129</td>\n",
       "      <td>1299</td>\n",
       "      <td>170</td>\n",
       "      <td>170</td>\n",
       "      <td>170</td>\n",
       "    </tr>\n",
       "    <tr>\n",
       "      <th>667</th>\n",
       "      <td>140</td>\n",
       "      <td>1300</td>\n",
       "      <td>170</td>\n",
       "      <td>170</td>\n",
       "      <td>170</td>\n",
       "    </tr>\n",
       "    <tr>\n",
       "      <th>668</th>\n",
       "      <td>145</td>\n",
       "      <td>1301</td>\n",
       "      <td>170</td>\n",
       "      <td>170</td>\n",
       "      <td>170</td>\n",
       "    </tr>\n",
       "    <tr>\n",
       "      <th>669</th>\n",
       "      <td>153</td>\n",
       "      <td>1302</td>\n",
       "      <td>170</td>\n",
       "      <td>170</td>\n",
       "      <td>170</td>\n",
       "    </tr>\n",
       "    <tr>\n",
       "      <th>670</th>\n",
       "      <td>164</td>\n",
       "      <td>1303</td>\n",
       "      <td>170</td>\n",
       "      <td>170</td>\n",
       "      <td>170</td>\n",
       "    </tr>\n",
       "  </tbody>\n",
       "</table>\n",
       "<p>671 rows × 5 columns</p>\n",
       "</div>"
      ],
      "text/plain": [
       "        id  graph_order    R    G    B\n",
       "0      997            0  255  255  255\n",
       "1       68            7   38  143   69\n",
       "2      667            8   38  143   69\n",
       "3    52192            9   38  143   69\n",
       "4    52196           10   38  143   69\n",
       "..     ...          ...  ...  ...  ...\n",
       "666    129         1299  170  170  170\n",
       "667    140         1300  170  170  170\n",
       "668    145         1301  170  170  170\n",
       "669    153         1302  170  170  170\n",
       "670    164         1303  170  170  170\n",
       "\n",
       "[671 rows x 5 columns]"
      ]
     },
     "execution_count": 2,
     "metadata": {},
     "output_type": "execute_result"
    }
   ],
   "source": [
    "data_GO = pd.read_csv(filepath_or_buffer=\"/export3/Imaging/atlas_for_fig/GOvsID_6region_removed.csv\", encoding=\"ms932\", sep=\",\")\n",
    "# data_GO[\"id\"]のユニークな値を取得\n",
    "ids = data_GO[\"id\"].astype(int)\n",
    "ids=np.array(ids)\n",
    "data_GO"
   ]
  },
  {
   "cell_type": "code",
   "execution_count": null,
   "metadata": {},
   "outputs": [],
   "source": [
    "conditions = {\n",
    "\n",
    "    \"WT_2m\": [\"8w_B6JWT_atlas_1_2022_0924_1847\",\"8w_B6JWT_atlas_2_2022_0926_1326\", \"8w_B6JWT_atlas_3_2022_1005_1110\", \"8w_B6JWT_atlas_4_2022_1010_2030\",\"8w_B6JWT_atlas_5_2023_0423_1604\",],\n",
    " \n",
    "}"
   ]
  },
  {
   "cell_type": "code",
   "execution_count": 5,
   "metadata": {},
   "outputs": [
    {
     "name": "stdout",
     "output_type": "stream",
     "text": [
      "\n",
      "\n",
      "Start time: 2024-07-08 18:10:52.844193\n",
      "/home/mitani/CUBIC-informatics/param/Neuronomics/8w_B6JWT_atlas_1_2022_0924_1847/param_multichannel-rank.json\n",
      "\n",
      "\n",
      "Start time: 2024-07-08 18:11:02.567893\n",
      "/home/mitani/CUBIC-informatics/param/Neuronomics/8w_B6JWT_atlas_2_2022_0926_1326/param_multichannel-rank.json\n",
      "\n",
      "\n",
      "Start time: 2024-07-08 18:11:43.413157\n",
      "/home/mitani/CUBIC-informatics/param/Neuronomics/8w_B6JWT_atlas_3_2022_1005_1110/param_multichannel-rank.json\n",
      "\n",
      "\n",
      "Start time: 2024-07-08 18:12:07.273535\n",
      "/home/mitani/CUBIC-informatics/param/Neuronomics/8w_B6JWT_atlas_4_2022_1010_2030/param_multichannel-rank.json\n",
      "\n",
      "\n",
      "Start time: 2024-07-08 18:12:33.278749\n",
      "/home/mitani/CUBIC-informatics/param/Neuronomics/8w_B6JWT_atlas_5_2023_0423_1604/param_multichannel-rank.json\n"
     ]
    }
   ],
   "source": [
    "dt_voxel = np.dtype([\n",
    "  ('X(um)', 'f4'), ('Y(um)', 'f4'), ('Z(um)', 'f4'),\n",
    "  ('NeuN_neighbor_r_100um','f4'), ('atlasID', 'u2')\n",
    "])\n",
    "\n",
    "all_paths = [path for paths in conditions.values() for path in paths]\n",
    "#all_paths = [\"1w_B6JWT_atlas_2_2022_1219_1829\"]\n",
    "# 全サンプルのデータを保持するリスト\n",
    "all_data = []\n",
    "\n",
    "for Sample in all_paths:\n",
    "    \n",
    "    # stitching後 & ANTs後のcellome情報を読み出し\n",
    "    print(\"\\n\")\n",
    "    start_time = datetime.datetime.now()\n",
    "    start_time2 = datetime.datetime.now()\n",
    "    print(\"Start time:\", start_time)\n",
    "    \n",
    "    param_path = \"/home/mitani/CUBIC-informatics/param/Neuronomics/\" + Sample + \"/param_multichannel-rank.json\"\n",
    "\n",
    "    print(param_path)\n",
    "\n",
    "\n",
    "\n",
    "    with open(param_path) as f:\n",
    "        param = json.load(f)\n",
    "\n",
    "    fw_dir_nu = param[\"dst_basedir\"]\n",
    "\n",
    "\n",
    "    ratio_cells = np.fromfile(fw_dir_nu + \"/10um_voxel_Neuron_ratio_cellome_2.bin\", dtype=dt_voxel)\n",
    "    \n",
    "    # 全データリストに追加\n",
    "    all_data.append(ratio_cells['NeuN_neighbor_r_100um'])\n",
    "    \n",
    "# リストをnumpy配列に変換\n",
    "all_data_array = np.array(all_data)\n",
    "\n",
    "# 各ボクセルごとの平均を計算\n",
    "voxel_means = np.mean(all_data_array, axis=0)\n",
    "\n",
    "# 3D画像の元のサイズ\n",
    "depth_ori = int(np.round(800 / 1))\n",
    "height_ori = int(np.round(1320 /1))\n",
    "width_ori = int(np.round(1140 /1))\n",
    "\n",
    "# 空の3D配列（画像）を作成\n",
    "image_3d = np.zeros((depth_ori, height_ori, width_ori), dtype=np.float32)\n",
    "\n",
    "# nearest_id が 0 より大きい行のみを選択\n",
    "filtered_df = ratio_cells[voxel_means > 0]\n",
    "\n",
    "# x, y, z 列を整数のNumPy配列に変換し、インデックス用に使用\n",
    "z_indices = (filtered_df['Z(um)']* (1/10)).astype(int)\n",
    "y_indices = (filtered_df['Y(um)']* (1/10)).astype(int)\n",
    "x_indices = (filtered_df['X(um)']* (1/10)).astype(int)\n",
    "# IDsをnp.int32型に変換してオーバーフローを防ぐ\n",
    "ids = voxel_means[voxel_means > 0].astype(np.float32)\n",
    "\n",
    "# 高度なインデクシングを使用して3D画像にIDを割り当て\n",
    "image_3d[z_indices, y_indices, x_indices] = ids\n",
    "\n",
    "# Save the 3D array as a TIFF file\n",
    "#img_filename_Nuclear_Isocortex_to_ori =   f\"/export2/Imaging/ds4_Data4/Cellome/Averaged_Neuron_ratio_10um_within100um_radius.tif\"\n",
    "#tifffile.imsave(img_filename_Nuclear_Isocortex_to_ori, image_3d.astype(np.float32))\n",
    "\n",
    "#del image_3d, z_indices, y_indices, x_indices, ids\n",
    "#gc.collect()"
   ]
  },
  {
   "cell_type": "code",
   "execution_count": 22,
   "metadata": {},
   "outputs": [],
   "source": [
    "# 3D画像の元のサイズ\n",
    "depth_ori = int(np.round(800 / 1))\n",
    "height_ori = int(np.round(1320 /1))\n",
    "width_ori = int(np.round(1140 /1))\n",
    "\n",
    "# 空の3D配列（画像）を作成\n",
    "image_3d_area = np.zeros((depth_ori, height_ori, width_ori), dtype=np.float32)\n",
    "\n",
    "# nearest_id が 0 より大きい行のみを選択\n",
    "filtered_df = ratio_cells\n",
    "\n",
    "# x, y, z 列を整数のNumPy配列に変換し、インデックス用に使用\n",
    "z_indices = (filtered_df['Z(um)']* (1/10)).astype(int)\n",
    "y_indices = (filtered_df['Y(um)']* (1/10)).astype(int)\n",
    "x_indices = (filtered_df['X(um)']* (1/10)).astype(int)\n",
    "# IDsをnp.int32型に変換してオーバーフローを防ぐ\n",
    "ids = 1\n",
    "\n",
    "# 高度なインデクシングを使用して3D画像にIDを割り当て\n",
    "image_3d_area[z_indices, y_indices, x_indices] = ids"
   ]
  },
  {
   "cell_type": "code",
   "execution_count": 24,
   "metadata": {},
   "outputs": [],
   "source": [
    "for ii in [np.mean(image_3d[image_3d_area >0]),0.80, 0.60, 0.40, 0.20]:\n",
    "    # Neuron　ratioの high/lowをわける maskを作製\n",
    "    thresh = ii #np.mean(image_3d[image_3d_area >0])\n",
    "\n",
    "    depth_ori = int(np.round(800 / 1))\n",
    "    height_ori = int(np.round(1320 /1))\n",
    "    width_ori = int(np.round(1140 /1))\n",
    "\n",
    "    # 空の3D配列（画像）を作成\n",
    "    image_3d_mask = np.zeros((depth_ori, height_ori, width_ori), dtype=np.uint16)\n",
    "\n",
    "    image_3d_mask = image_3d_area.copy()\n",
    "    image_3d_mask[image_3d > thresh] = image_3d_mask[image_3d > thresh].copy() - image_3d_area[image_3d > thresh]\n",
    "\n",
    "    # Save the 3D array as a TIFF file\n",
    "    img_filename_Nuclear_Isocortex_to_ori =   f\"/export2/Imaging/ds4_Data4/Cellome/\" +str(thresh)+\"_Threshed_Mask_WM_ver_Averaged_Neuron_ratio_10um_within100um_radius.tif\"\n",
    "    tifffile.imsave(img_filename_Nuclear_Isocortex_to_ori, image_3d_mask.astype(np.uint16))"
   ]
  },
  {
   "cell_type": "code",
   "execution_count": 23,
   "metadata": {},
   "outputs": [
    {
     "name": "stdout",
     "output_type": "stream",
     "text": [
      "0.4203462\n",
      "0.083157465\n"
     ]
    }
   ],
   "source": [
    "thresh = 0.20\n",
    "image_3d_mask = np.zeros((depth_ori, height_ori, width_ori), dtype=np.uint16)\n",
    "\n",
    "image_3d_mask = image_3d_area.copy()\n",
    "print(np.mean(image_3d_mask))\n",
    "image_3d_mask[image_3d > thresh] = image_3d_mask[image_3d > thresh].copy() - image_3d_area[image_3d > thresh]\n",
    "print(np.mean(image_3d_mask))"
   ]
  },
  {
   "cell_type": "code",
   "execution_count": 11,
   "metadata": {},
   "outputs": [
    {
     "data": {
      "text/plain": [
       "0.0"
      ]
     },
     "execution_count": 11,
     "metadata": {},
     "output_type": "execute_result"
    }
   ],
   "source": [
    "np.min(image_3d)"
   ]
  },
  {
   "cell_type": "code",
   "execution_count": 17,
   "metadata": {},
   "outputs": [
    {
     "data": {
      "text/plain": [
       "1.0"
      ]
     },
     "execution_count": 17,
     "metadata": {},
     "output_type": "execute_result"
    }
   ],
   "source": [
    "thresh = 0.80\n",
    "image_3d_mask = np.zeros((depth_ori, height_ori, width_ori), dtype=np.uint16)\n",
    "\n",
    "image_3d_mask = image_3d_area\n",
    "image_3d_mask[image_3d < thresh] = 0\n",
    "\n",
    "np.sum(image_3d_mask)/np.sum(image_3d_area)"
   ]
  },
  {
   "cell_type": "code",
   "execution_count": 10,
   "metadata": {},
   "outputs": [
    {
     "name": "stdout",
     "output_type": "stream",
     "text": [
      "0.18416576\n"
     ]
    }
   ],
   "source": [
    "print(np.mean(image_3d))"
   ]
  },
  {
   "cell_type": "code",
   "execution_count": null,
   "metadata": {},
   "outputs": [],
   "source": []
  },
  {
   "cell_type": "code",
   "execution_count": 5,
   "metadata": {},
   "outputs": [],
   "source": [
    "# meanのやつが一番白質っぽいか。\n",
    "WM_mask = tifffile.imread(f\"/export2/Imaging/ds4_Data4/Cellome/0.43812782_Threshed_Mask_WM_ver_Averaged_Neuron_ratio_10um_within100um_radius.tif\")"
   ]
  },
  {
   "cell_type": "code",
   "execution_count": 6,
   "metadata": {},
   "outputs": [
    {
     "data": {
      "text/plain": [
       "(800, 1320, 1140)"
      ]
     },
     "execution_count": 6,
     "metadata": {},
     "output_type": "execute_result"
    }
   ],
   "source": [
    "WM_mask.shape"
   ]
  },
  {
   "cell_type": "code",
   "execution_count": 7,
   "metadata": {},
   "outputs": [
    {
     "name": "stdout",
     "output_type": "stream",
     "text": [
      "Start time: 2024-07-08 19:59:25.156867\n"
     ]
    },
    {
     "ename": "NameError",
     "evalue": "name 'cou' is not defined",
     "output_type": "error",
     "traceback": [
      "\u001b[0;31m---------------------------------------------------------------------------\u001b[0m",
      "\u001b[0;31mNameError\u001b[0m                                 Traceback (most recent call last)",
      "\u001b[0;32m<ipython-input-7-b4e0b30aa068>\u001b[0m in \u001b[0;36m<module>\u001b[0;34m\u001b[0m\n\u001b[1;32m     10\u001b[0m \u001b[0;34m\u001b[0m\u001b[0m\n\u001b[1;32m     11\u001b[0m \u001b[0mend_time\u001b[0m \u001b[0;34m=\u001b[0m \u001b[0mdatetime\u001b[0m\u001b[0;34m.\u001b[0m\u001b[0mdatetime\u001b[0m\u001b[0;34m.\u001b[0m\u001b[0mnow\u001b[0m\u001b[0;34m(\u001b[0m\u001b[0;34m)\u001b[0m\u001b[0;34m\u001b[0m\u001b[0;34m\u001b[0m\u001b[0m\n\u001b[0;32m---> 12\u001b[0;31m \u001b[0mprint\u001b[0m\u001b[0;34m(\u001b[0m\u001b[0mstr\u001b[0m\u001b[0;34m(\u001b[0m\u001b[0mcou\u001b[0m\u001b[0;34m)\u001b[0m \u001b[0;34m+\u001b[0m \u001b[0;34m\" End time:\"\u001b[0m\u001b[0;34m,\u001b[0m \u001b[0mend_time\u001b[0m\u001b[0;34m)\u001b[0m\u001b[0;34m\u001b[0m\u001b[0;34m\u001b[0m\u001b[0m\n\u001b[0m\u001b[1;32m     13\u001b[0m \u001b[0mprint\u001b[0m\u001b[0;34m(\u001b[0m\u001b[0;34m\"Duration:\"\u001b[0m\u001b[0;34m,\u001b[0m \u001b[0mend_time\u001b[0m \u001b[0;34m-\u001b[0m \u001b[0mstart_time\u001b[0m\u001b[0;34m)\u001b[0m\u001b[0;34m\u001b[0m\u001b[0;34m\u001b[0m\u001b[0m\n\u001b[1;32m     14\u001b[0m \u001b[0;34m\u001b[0m\u001b[0m\n",
      "\u001b[0;31mNameError\u001b[0m: name 'cou' is not defined"
     ]
    }
   ],
   "source": [
    "from scipy.ndimage import distance_transform_edt\n",
    "import datetime\n",
    "\n",
    "start_time = datetime.datetime.now()\n",
    "start_time2 = datetime.datetime.now()\n",
    "print(\"Start time:\", start_time)\n",
    "        \n",
    "# 距離変換を実行（1がオブジェクトであるためそのまま使用）\n",
    "distance_map = distance_transform_edt(WM_mask)\n",
    "\n",
    "end_time = datetime.datetime.now()\n",
    "print(\"Duration:\", end_time - start_time)\n",
    "\n",
    "# 距離マップをtifファイルとして保存\n",
    "output_path = \"/export2/Imaging/ds4_Data4/Cellome/distance_map_using_0.43812782_Threshed_Mask_WM.tif\"\n",
    "tifffile.imwrite(output_path, distance_map.astype(np.float32))"
   ]
  },
  {
   "cell_type": "code",
   "execution_count": 8,
   "metadata": {},
   "outputs": [],
   "source": [
    "# 距離マップをtifファイルとして保存\n",
    "output_path = \"/export2/Imaging/ds4_Data4/Cellome/distance_map_using_0.43812782_Threshed_Mask_WM.tif\"\n",
    "tifffile.imwrite(output_path, distance_map.astype(np.float32))"
   ]
  },
  {
   "cell_type": "code",
   "execution_count": 6,
   "metadata": {},
   "outputs": [],
   "source": [
    "# meanのやつが一番白質っぽいか。\n",
    "# これはGM\n",
    "GM_mask = tifffile.imread(f\"/export2/Imaging/ds4_Data4/Cellome/0.43812782_Threshed_Mask_Averaged_Neuron_ratio_10um_within100um_radius.tif\")"
   ]
  },
  {
   "cell_type": "code",
   "execution_count": 7,
   "metadata": {},
   "outputs": [
    {
     "name": "stdout",
     "output_type": "stream",
     "text": [
      "Start time: 2024-07-08 20:42:19.760883\n",
      "Duration: 0:09:49.725601\n"
     ]
    }
   ],
   "source": [
    "from scipy.ndimage import distance_transform_edt\n",
    "import datetime\n",
    "\n",
    "start_time = datetime.datetime.now()\n",
    "start_time2 = datetime.datetime.now()\n",
    "print(\"Start time:\", start_time)\n",
    "        \n",
    "# 距離変換を実行（1がオブジェクトであるためそのまま使用）\n",
    "distance_map = distance_transform_edt(GM_mask)\n",
    "\n",
    "end_time = datetime.datetime.now()\n",
    "print(\"Duration:\", end_time - start_time)\n",
    "\n",
    "# 距離マップをtifファイルとして保存\n",
    "output_path = \"/export2/Imaging/ds4_Data4/Cellome/distance_map_using_0.43812782_Threshed_Mask_GM.tif\"\n",
    "tifffile.imwrite(output_path, distance_map.astype(np.float32))"
   ]
  },
  {
   "cell_type": "code",
   "execution_count": 25,
   "metadata": {},
   "outputs": [],
   "source": [
    "# 白質の距離を読み出す。\n",
    "WM_distance = tifffile.imread(\"/export2/Imaging/ds4_Data4/Cellome/distance_map_using_0.43812782_Threshed_Mask_WM.tif\")"
   ]
  },
  {
   "cell_type": "code",
   "execution_count": 23,
   "metadata": {},
   "outputs": [
    {
     "name": "stdout",
     "output_type": "stream",
     "text": [
      "0\n",
      "1\n",
      "2\n",
      "3\n"
     ]
    }
   ],
   "source": [
    "depth_ori = int(np.round(800 / 1))\n",
    "height_ori = int(np.round(1320 /1))\n",
    "width_ori = int(np.round(1140 /1))\n",
    "\n",
    "image_3d_mask_ = np.zeros((depth_ori, height_ori, width_ori), dtype=np.uint16)\n",
    "thresh_step = 20 #10\n",
    "num = 2 \n",
    "# 白質の距離を読み出す。\n",
    "for i in range(num):\n",
    "    print(i) # maskの外側の層から順に\n",
    "    min_  = thresh_step * i\n",
    "    max_ = thresh_step * (i+1)\n",
    "    output_path = \"/export2/Imaging/ds4_Data4/Cellome/\"+str(min_)+\"_distance_map_using_0.43812782_Threshed_Mask_WM.tif\"\n",
    "    if i < num -1:\n",
    "        image_3d_mask_[(WM_distance >0) & (WM_distance >= min_) & (WM_distance < max_)] = i\n",
    "        #tifffile.imwrite(output_path, image_3d_mask_.astype(np.uint16))\n",
    "    else:\n",
    "        image_3d_mask_[(WM_distance >0) & (WM_distance >= min_)] = i\n",
    "\n",
    "tifffile.imwrite(output_path, image_3d_mask_.astype(np.uint16))"
   ]
  },
  {
   "cell_type": "code",
   "execution_count": 22,
   "metadata": {},
   "outputs": [
    {
     "data": {
      "text/plain": [
       "114.61675"
      ]
     },
     "execution_count": 22,
     "metadata": {},
     "output_type": "execute_result"
    }
   ],
   "source": [
    "WM_distance.max()"
   ]
  },
  {
   "cell_type": "code",
   "execution_count": 26,
   "metadata": {},
   "outputs": [],
   "source": [
    "# 白質の距離を読み出す。\n",
    "GM_distance = tifffile.imread(\"/export2/Imaging/ds4_Data4/Cellome/distance_map_using_0.43812782_Threshed_Mask_GM.tif\")"
   ]
  },
  {
   "cell_type": "code",
   "execution_count": 24,
   "metadata": {},
   "outputs": [
    {
     "name": "stdout",
     "output_type": "stream",
     "text": [
      "0\n",
      "1\n",
      "2\n",
      "3\n"
     ]
    }
   ],
   "source": [
    "depth_ori = int(np.round(800 / 1))\n",
    "height_ori = int(np.round(1320 /1))\n",
    "width_ori = int(np.round(1140 /1))\n",
    "image_3d_mask_ = np.zeros((depth_ori, height_ori, width_ori), dtype=np.uint16)\n",
    "\n",
    "thresh_step = 10.0\n",
    "num = 4 \n",
    "# 白質の距離を読み出す。\n",
    "for i in range(num):\n",
    "    print(i) # maskの外側の層から順に\n",
    "    #image_3d_mask_ = np.zeros((depth_ori, height_ori, width_ori), dtype=np.uint16)\n",
    "    min_  = thresh_step * i\n",
    "    max_ = thresh_step * (i+1)\n",
    "    output_path = \"/export2/Imaging/ds4_Data4/Cellome/\"+str(min_)+\"_distance_map_using_0.43812782_Threshed_Mask_GM.tif\"\n",
    "    if i < num -1:\n",
    "        image_3d_mask_[(GM_distance > 0) & (GM_distance >= min_) & (GM_distance < max_)] = i\n",
    "        #tifffile.imwrite(output_path, image_3d_mask_.astype(np.uint16))\n",
    "    else:\n",
    "        image_3d_mask_[(GM_distance > 0) & (GM_distance >= min_)] = i\n",
    "        \n",
    "tifffile.imwrite(output_path, image_3d_mask_.astype(np.uint16))"
   ]
  },
  {
   "cell_type": "code",
   "execution_count": 31,
   "metadata": {},
   "outputs": [
    {
     "name": "stdout",
     "output_type": "stream",
     "text": [
      "0\n",
      "4\n",
      "1\n",
      "3\n",
      "2\n",
      "2\n",
      "3\n",
      "1\n",
      "0\n",
      "5\n",
      "1\n",
      "6\n",
      "2\n",
      "7\n",
      "3\n",
      "8\n"
     ]
    }
   ],
   "source": [
    "depth_ori = int(np.round(800 / 1))\n",
    "height_ori = int(np.round(1320 /1))\n",
    "width_ori = int(np.round(1140 /1))\n",
    "\n",
    "image_3d_mask_ = np.zeros((depth_ori, height_ori, width_ori), dtype=np.uint16)\n",
    "thresh_step = 10 #10\n",
    "num = 4 \n",
    "# 白質の距離を読み出す。\n",
    "for i in range(num):# 灰白質\n",
    "    print(i) # maskの外側の層から順に\n",
    "    min_  = thresh_step * i\n",
    "    max_ = thresh_step * (i+1)\n",
    "    output_path = \"/export2/Imaging/ds4_Data4/Cellome/\"+str(min_)+\"_distance_map_using_0.43812782_Threshed_Mask_WM_and_GM.tif\"\n",
    "    if i < num -1:\n",
    "        image_3d_mask_[(GM_distance >0) & (GM_distance >= min_) & (GM_distance < max_)] = 5 - (i+1)\n",
    "        #tifffile.imwrite(output_path, image_3d_mask_.astype(np.uint16))\n",
    "    else:\n",
    "        image_3d_mask_[(GM_distance >0) & (GM_distance >= min_)] = 5 - (i+1)\n",
    "        \n",
    "    print(5 - (i+1))\n",
    "        \n",
    "for i in range(num): #白質\n",
    "    print(i) # maskの外側の層から順に\n",
    "    min_  = thresh_step * i\n",
    "    max_ = thresh_step * (i+1)\n",
    "    output_path = \"/export2/Imaging/ds4_Data4/Cellome/\"+str(min_)+\"_distance_map_using_0.43812782_Threshed_Mask_WM_and_GM.tif\"\n",
    "    if i < num -1:\n",
    "        image_3d_mask_[(WM_distance >0) & (WM_distance >= min_) & (WM_distance < max_)] = i+1 + 4\n",
    "        #tifffile.imwrite(output_path, image_3d_mask_.astype(np.uint16))\n",
    "    else:\n",
    "        image_3d_mask_[(WM_distance >0) & (WM_distance >= min_)] = i+1 + 4\n",
    "        \n",
    "    print(i+1 + 4)\n",
    "\n",
    "tifffile.imwrite(output_path.replace(\"_GM\",\"_GMslice400\"), image_3d_mask_[400].astype(np.uint16))\n",
    "tifffile.imwrite(output_path, image_3d_mask_.astype(np.uint16))"
   ]
  },
  {
   "cell_type": "code",
   "execution_count": 4,
   "metadata": {},
   "outputs": [
    {
     "ename": "NameError",
     "evalue": "name 'mask' is not defined",
     "output_type": "error",
     "traceback": [
      "\u001b[0;31m---------------------------------------------------------------------------\u001b[0m",
      "\u001b[0;31mNameError\u001b[0m                                 Traceback (most recent call last)",
      "\u001b[0;32m<ipython-input-4-020936170870>\u001b[0m in \u001b[0;36m<module>\u001b[0;34m\u001b[0m\n\u001b[1;32m     16\u001b[0m \u001b[0;34m\u001b[0m\u001b[0m\n\u001b[1;32m     17\u001b[0m \u001b[0;31m# マスクを適用した後のid列から、各IDの出現回数を集計\u001b[0m\u001b[0;34m\u001b[0m\u001b[0;34m\u001b[0m\u001b[0;34m\u001b[0m\u001b[0m\n\u001b[0;32m---> 18\u001b[0;31m \u001b[0mid_counts\u001b[0m \u001b[0;34m=\u001b[0m \u001b[0mdf_non_zero\u001b[0m\u001b[0;34m[\u001b[0m\u001b[0;34m'id'\u001b[0m\u001b[0;34m]\u001b[0m\u001b[0;34m[\u001b[0m\u001b[0mmask\u001b[0m\u001b[0;34m]\u001b[0m\u001b[0;34m.\u001b[0m\u001b[0mvalue_counts\u001b[0m\u001b[0;34m(\u001b[0m\u001b[0;34m)\u001b[0m\u001b[0;34m\u001b[0m\u001b[0;34m\u001b[0m\u001b[0m\n\u001b[0m\u001b[1;32m     19\u001b[0m \u001b[0;34m\u001b[0m\u001b[0m\n\u001b[1;32m     20\u001b[0m \u001b[0;31m# ユニークなIDリストに基づいて、集計結果をフィルタリング（存在しないIDは0として扱う）\u001b[0m\u001b[0;34m\u001b[0m\u001b[0;34m\u001b[0m\u001b[0;34m\u001b[0m\u001b[0m\n",
      "\u001b[0;31mNameError\u001b[0m: name 'mask' is not defined"
     ]
    }
   ],
   "source": [
    "# region volume iso 10um を保存する。\n",
    "\n",
    "# meanのやつが一番白質っぽいか。\n",
    "annotation_10 = tifffile.imread(f\"/export2/Imaging/ds4_Data4/Cellome/30_distance_map_using_0.43812782_Threshed_Mask_WM_and_GM.tif\")\n",
    "\n",
    "non_zero_coords = np.argwhere(annotation_10)\n",
    "non_zero_values = annotation_10[non_zero_coords[:, 0], non_zero_coords[:, 1], non_zero_coords[:, 2]]\n",
    "\n",
    "# DataFrameに変換\n",
    "df_non_zero = pd.DataFrame(non_zero_coords, columns=['z', 'y', 'x'])\n",
    "df_non_zero['id'] = np.round(non_zero_values)\n",
    "\n",
    "df_non_zero['z'] = np.round(df_non_zero['z']) #+ 0.5 #* (10/25) # 10のまま.+ 0.5しないと、voxelの中心にないので。\n",
    "df_non_zero['y'] = np.round(df_non_zero['y']) #+ 0.5 #* (10/25)\n",
    "df_non_zero['x'] = np.round(df_non_zero['x']) #+ 0.5 #* (10/25)\n",
    "\n"
   ]
  },
  {
   "cell_type": "code",
   "execution_count": 7,
   "metadata": {},
   "outputs": [],
   "source": [
    "# マスクを適用した後のid列から、各IDの出現回数を集計\n",
    "id_counts = df_non_zero['id'].value_counts()\n",
    "\n",
    "# ユニークなIDリストに基づいて、集計結果をフィルタリング（存在しないIDは0として扱う）\n",
    "filtered_counts = id_counts.reindex([1,2,3,4,5,6,7,8], fill_value=0)\n",
    "\n",
    "# DataFrameを作成\n",
    "df_filtered = filtered_counts.reset_index()\n",
    "df_filtered.columns = ['atlasID', 'iso_10um_voxel_count']  # 列名を設定\n",
    "\n",
    "# CSVに保存\n",
    "\n",
    "csv_file_path =  \"/export2/Imaging/ds4_Data4/Cellome/Regional_iso_10um_voxel_count2_WM_and_GM_30_distance_ver.csv\"  # 保存するファイルのパス\n",
    "df_filtered.to_csv(csv_file_path, index=False)"
   ]
  },
  {
   "cell_type": "code",
   "execution_count": null,
   "metadata": {},
   "outputs": [],
   "source": []
  }
 ],
 "metadata": {
  "kernelspec": {
   "display_name": "Python 3",
   "language": "python",
   "name": "python3"
  },
  "language_info": {
   "codemirror_mode": {
    "name": "ipython",
    "version": 3
   },
   "file_extension": ".py",
   "mimetype": "text/x-python",
   "name": "python",
   "nbconvert_exporter": "python",
   "pygments_lexer": "ipython3",
   "version": "3.6.8"
  }
 },
 "nbformat": 4,
 "nbformat_minor": 4
}
